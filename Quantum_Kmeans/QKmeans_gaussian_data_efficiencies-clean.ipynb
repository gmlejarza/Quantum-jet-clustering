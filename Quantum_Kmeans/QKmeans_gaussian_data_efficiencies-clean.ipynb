{
 "cells": [
  {
   "cell_type": "code",
   "execution_count": 1,
   "metadata": {},
   "outputs": [
    {
     "data": {
      "text/plain": [
       "{'qiskit-terra': '0.20.1', 'qiskit-aer': '0.10.4', 'qiskit-ignis': '0.7.0', 'qiskit-ibmq-provider': '0.19.1', 'qiskit-aqua': '0.9.5', 'qiskit': None, 'qiskit-nature': None, 'qiskit-finance': None, 'qiskit-optimization': None, 'qiskit-machine-learning': None}"
      ]
     },
     "execution_count": 1,
     "metadata": {},
     "output_type": "execute_result"
    }
   ],
   "source": [
    "import qiskit\n",
    "qiskit.__qiskit_version__"
   ]
  },
  {
   "cell_type": "code",
   "execution_count": 2,
   "metadata": {},
   "outputs": [],
   "source": [
    "from sklearn.datasets import make_blobs\n",
    "import numpy as np\n",
    "import matplotlib.pyplot as plt\n",
    "import math\n",
    "import pandas as pd\n",
    "# import math lib\n",
    "from math import pi\n",
    "\n",
    "# import Qiskit\n",
    "from qiskit import Aer, execute\n",
    "from qiskit import QuantumCircuit, ClassicalRegister, QuantumRegister\n",
    "#from qiskit.quantum_info import state_fidelity\n",
    "# import basic plot tools\n",
    "from qiskit.tools.visualization import plot_histogram\n",
    "from sklearn.preprocessing import MinMaxScaler\n",
    "from qiskit.aqua.components.feature_maps.raw_feature_vector import RawFeatureVector\n",
    "from mpl_toolkits.mplot3d import Axes3D\n",
    "#import random\n",
    "#from sklearn.cluster import KMeans\n",
    "import centroid_initialization as cent_init\n",
    "#from qiskit.quantum_info import Statevector\n",
    "import warnings\n",
    "#from sklearn.preprocessing import FunctionTransformer\n",
    "warnings.filterwarnings(\"ignore\", category=DeprecationWarning) "
   ]
  },
  {
   "cell_type": "code",
   "execution_count": 3,
   "metadata": {},
   "outputs": [],
   "source": [
    "#PROCESSING THE DATA\n",
    "def get_data(n,k,std):\n",
    "    data = make_blobs(n_samples=n, n_features=3, centers=k, cluster_std=std, center_box=(-10,10), random_state=10)\n",
    "    points = data[0]\n",
    "    centers = data[1]\n",
    "    return points,centers\n",
    "def get_massless_vectors(points):\n",
    "    fourvector=[]\n",
    "    for i in range(len(points)):\n",
    "        aux=np.append(points[i,:], (points[i,0]**2+points[i,1]**2+points[i,2]**2)**0.5)\n",
    "        aux1=aux.copy()\n",
    "        aux1[0]=aux[3]\n",
    "        aux1[1]=aux[0]\n",
    "        aux1[2]=aux[1]\n",
    "        aux1[3]=aux[2]\n",
    "        fourvector+=[aux1]\n",
    "    return fourvector\n",
    "\n",
    "def preprocess(points):\n",
    "    scaler =MinMaxScaler(feature_range=(10, 100))\n",
    "    points=scaler.fit_transform(points)\n",
    "    return points\n"
   ]
  },
  {
   "cell_type": "code",
   "execution_count": 4,
   "metadata": {},
   "outputs": [],
   "source": [
    "#PLOTTING INTERMEDIATE RESULTS\n",
    "def draw_plot(fig,points,centers,label=True):\n",
    "    \n",
    "    ax = Axes3D(fig)\n",
    "    ax.scatter(points[:,1], points[:,2],points[:,3],c=centers, cmap='viridis') #4dimensions\n",
    "    ax.set_xlabel('X-axis')\n",
    "    ax.set_ylabel('Y-axis')\n",
    "    ax.set_zlabel('Z-axis')\n",
    "    #fig.add_axes(ax)\n",
    "    plt.show()\n",
    "    \n",
    "def plot_centroids(fig,points,centers):\n",
    "    \n",
    "    ax = Axes3D(fig)\n",
    "    ax.scatter(points[:,1], points[:,2],points[:,3])  #4dimensions\n",
    "    ax.set_xlabel('X-axis')\n",
    "    ax.set_ylabel('Y-axis')\n",
    "    ax.set_zlabel('Z-axis')\n",
    "    #fig.add_axes(ax)\n",
    "    plt.show()"
   ]
  },
  {
   "cell_type": "code",
   "execution_count": 5,
   "metadata": {},
   "outputs": [],
   "source": [
    "#UTILS FOR THE ALGORITHM\n",
    "\n",
    "def initialize_center(points):\n",
    "    center=[]\n",
    "    for i in range(len(points[0,:])):\n",
    "        center=np.append(center,np.random.uniform(min(points[:,i]),max(points[:,i])))\n",
    "    return center\n",
    "def initialize_centers(points,k):\n",
    "    centers=[]\n",
    "    for i in range(k):\n",
    "        centers=np.append(centers,initialize_center(points))\n",
    "    centers=centers.reshape(k,len(points[0,:]))\n",
    "    return centers\n",
    "\n",
    "def find_centroids(points,centers,k):\n",
    "    n = len(points)\n",
    "    #k = int(np.max(centers))+1\n",
    "    #print(k)\n",
    "    #centroids = np.zeros([k,3])#before 4\n",
    "    centroids = np.zeros([k,4])\n",
    "    for i in range(k):\n",
    "        #print(points[centers==i])\n",
    "        if (np.size(points[centers==i])!=0):\n",
    "            centroids[i,0] = np.average(points[centers==i,0])\n",
    "            centroids[i,1] = np.average(points[centers==i,1])\n",
    "            centroids[i,2] = np.average(points[centers==i,2])\n",
    "            centroids[i,3] = np.average(points[centers==i,3])\n",
    "            \n",
    "        #print(centroids[i,:])\n",
    "        else:\n",
    "            centroids[i]=points[np.random.randint(points.shape[0]),:]\n",
    "        \n",
    "    return centroids  \n",
    "def find_nearest_neighbour_quantum(points,centroids,k,quantum,qsearch):\n",
    "    n = len(points)\n",
    "    centers = np.zeros(n)\n",
    "    \n",
    "    for i in range(n):\n",
    "        min_dis = 10**10\n",
    "        ind = 0\n",
    "        temp_dis_list=[]\n",
    "        for j in range(k):\n",
    "\n",
    "            if (quantum == True) :\n",
    "                error=True\n",
    "                while(error==True):\n",
    "                    temp_dis,error= quantum_calculate_mass_invariant(centroids[j,:],points[i,:])           \n",
    "            else:        \n",
    "                temp_dis = get_invariantmass_classical(centroids[j,:],points[i,:])\n",
    "            temp_dis_list.append(temp_dis+1)            \n",
    "        if(qsearch==True):\n",
    "            index_min=get_quantum_minimum(temp_dis_list)\n",
    "        else:\n",
    "            index_min=np.argmin(temp_dis_list)\n",
    "        centers[i] = index_min\n",
    "    return (centers)"
   ]
  },
  {
   "cell_type": "code",
   "execution_count": 6,
   "metadata": {},
   "outputs": [],
   "source": [
    "# DISTANCE CALCULATIONS\n",
    "def get_minkwoski_distance_classical(p1, p2):\n",
    "    dis=abs((p1[0]-p2[0])**2-get_distance_classical(p1[1:],p2[1:])**2)**0.5\n",
    "    return dis\n",
    "def get_invariantmass_classical(p1, p2):\n",
    "    dis=abs((p1[0]+p2[0])**2-(p1[1]+p2[1])**2-(p1[2]+p2[2])**2-(p1[3]+p2[3])**2)**0.5\n",
    "    return dis\n",
    "def get_distance_classical(p1, p2):\n",
    "    return np.sqrt(np.sum((p1-p2)*(p1-p2)))\n",
    "\n",
    "def quantum_calculate_mass_invariant(x, y):\n",
    "    backend = Aer.get_backend('qasm_simulator') \n",
    "    X = np.array(x[1:4])\n",
    "    Y = np.array(y[1:4])\n",
    "    error=False\n",
    "    if (X[0]==Y[0] and X[1]==Y[1] and X[2]==Y[2]):\n",
    "        #print('broken')\n",
    "        return 0,error\n",
    "        #feature vector converter\n",
    "    c0 = ClassicalRegister(1)\n",
    "    q0 = QuantumRegister(1)\n",
    "    zerocircuit = QuantumCircuit(q0)\n",
    "    zerocircuit.h(q0)\n",
    "\n",
    "    fvc = RawFeatureVector(len(X))\n",
    "    q1 = QuantumRegister(fvc.num_qubits)\n",
    "    q2 = QuantumRegister(fvc.num_qubits)\n",
    "    ketxcircuit = fvc.construct_circuit(X, qr=q1)\n",
    "    ketycircuit = fvc.construct_circuit(Y, qr=q2)\n",
    "\n",
    "    psicircuit = zerocircuit+ketxcircuit+ketycircuit\n",
    "    for i in range(fvc.num_qubits):\n",
    "        psicircuit.cswap(q0, q1[i], q2[i])\n",
    "\n",
    "    #psicircuit.barrier(q0, q1, q2)\n",
    "\n",
    "\n",
    "    gatexinverse=ketxcircuit.to_gate().inverse()\n",
    "    gatexinverse.name=\"X_inverse\"\n",
    "    gatexinverse=gatexinverse.control(1)\n",
    "    gateyinverse=ketycircuit.to_gate().inverse()\n",
    "    gateyinverse.name=\"Y_inverse\"\n",
    "    gateyinverse=gateyinverse.control(1)\n",
    "\n",
    "    psicircuit.append(gatexinverse,[0,q2[0],q2[1]])  \n",
    "    psicircuit.x(q0)\n",
    "    psicircuit.append(gateyinverse,[0,q2[0],q2[1]]) \n",
    "    psicircuit.x(q0)\n",
    "    Z=0\n",
    "    for i in range(len(X)):\n",
    "        Z += X[i]**2+Y[i]**2\n",
    "\n",
    "    fvc2 = RawFeatureVector(2)\n",
    "    p1 = np.linalg.norm(X)\n",
    "    p2 = np.linalg.norm(Y)\n",
    "    phi = np.array([p1,p2])\n",
    "    phicircuit = fvc2.construct_circuit(phi, qr=q2)\n",
    "\n",
    "    q3 = QuantumRegister(1)\n",
    "    swapcircuit = psicircuit+phicircuit\n",
    "    swapcircuit.add_register(q3)\n",
    "    swapcircuit.add_register(c0)\n",
    "    swapcircuit.h(q3)\n",
    "    swapcircuit.cswap(q3, q0, q2[0])\n",
    "    swapcircuit.h(q3)\n",
    "    swapcircuit.measure(q3, c0)\n",
    "    swapcircuit.barrier(q0,q1,q2,q3)\n",
    "\n",
    "    #new things\n",
    "    q4 = QuantumRegister(1)\n",
    "    q5 = QuantumRegister(1)\n",
    "    q6 = QuantumRegister(1)\n",
    "    phi = np.array([x[0],y[0]])\n",
    "    Z0=x[0]**2+y[0]**2\n",
    "    phicircuit = fvc2.construct_circuit(phi, qr=q4)\n",
    "    swapcircuit=swapcircuit+phicircuit\n",
    "    swapcircuit.add_register(q5)\n",
    "    swapcircuit.add_register(q6)\n",
    "    swapcircuit.h(q5)\n",
    "    swapcircuit.h(q6)\n",
    "    c1 = ClassicalRegister(1)\n",
    "    swapcircuit.cswap(q6, q5, q4)\n",
    "    swapcircuit.add_register(c1)\n",
    "    swapcircuit.h(q6)\n",
    "    swapcircuit.measure(q6, c1)\n",
    "    #end new things\n",
    "    \n",
    "    #print(swapcircuit.draw('latex_source'))\n",
    "    shots=50000\n",
    "    result = execute(swapcircuit, backend, shots=shots).result()\n",
    "    #print(result.get_counts())\n",
    "    if('1 0' in result.get_counts()):\n",
    "         p0=(result.get_counts()['1 0']+result.get_counts()['0 0'])/shots\n",
    "    else:\n",
    "        p0=(result.get_counts()['0 0'])/shots\n",
    "    if('0 1' in result.get_counts()):\n",
    "        p02=(result.get_counts()['0 0']+result.get_counts()['0 1'])/shots\n",
    "    else:\n",
    "        p02=(result.get_counts()['0 0'])/shots\n",
    "    #squares = Z*((4*result.get_counts()['0']/50000.0)-2)\n",
    "    tridistance = (Z*(4*p0-2))\n",
    "    difmodulus=(Z0*(4*p02-2))\n",
    "    \n",
    "    if (tridistance<0 or difmodulus<0 ):\n",
    "        error=True\n",
    "    minkq2=abs(difmodulus-tridistance)**0.5\n",
    "    #error =False\n",
    "    return(minkq2,error)"
   ]
  },
  {
   "cell_type": "code",
   "execution_count": 7,
   "metadata": {},
   "outputs": [],
   "source": [
    "# QUANTUM MINIMUM OBTENTION\n",
    "   \n",
    "def get_quantum_maximum(array):\n",
    "    backend = Aer.get_backend('qasm_simulator') \n",
    "    X=np.array(array)\n",
    "    fvc = RawFeatureVector(len(X))\n",
    "    q1 = QuantumRegister(fvc.num_qubits)\n",
    "    minimum_circuit = fvc.construct_circuit(X, qr=q1)\n",
    "    minimum_circuit.measure_all()\n",
    "    result = execute(minimum_circuit, backend, shots=600).result()\n",
    "    counts=result.get_counts()\n",
    "    max_value = max(counts.values())\n",
    "    max_values_counts = [x[0] for x in counts.items() if x[1] == max_value]\n",
    "    #result=counts.most_frequent()\n",
    "    result=max_values_counts[0]\n",
    "    index_minimum=int(result,2)\n",
    "    return index_minimum\n",
    "def get_quantum_minimum(array):\n",
    "    array_power=np.array(array)**1\n",
    "    array_inv=1/array_power\n",
    "    index_min=get_quantum_maximum(array_inv)\n",
    "    return index_min"
   ]
  },
  {
   "cell_type": "code",
   "execution_count": 8,
   "metadata": {},
   "outputs": [],
   "source": [
    "#POST-PROCESSING RESULTS\n",
    "def sum_array(arr):\n",
    "    sum = 0;   \n",
    "    #Loop through the array to calculate sum of elements  \n",
    "    for j in range(0,len(arr[0,:])):\n",
    "        for i in range(0, len(arr[0,:])):  \n",
    "           sum = sum + arr[j,i]; \n",
    "    return abs(sum)\n",
    "def centroids_differences(centroidslist,trials,limit,counts):\n",
    "    \n",
    "    for i in range(trials-1):\n",
    "        for j in range(i+1,trials):\n",
    "            if(sum_array(centroidslist[i]-centroidslist[j])<=limit):\n",
    "                counts[i]+=1\n",
    "                counts[j]+=1\n",
    "                #i=trials\n",
    "                #j=trials\n",
    "    return counts\n",
    "\n",
    "\n",
    "def makeitinteger(centers):\n",
    "    intcenters=[int(centers[0])]\n",
    "    for i in range(1,len(centers)):\n",
    "        integer=int(centers[i])\n",
    "        intcenters=np.append(intcenters,int(integer))\n",
    "    return intcenters\n",
    "def compute_efficiency(o_centers,intcenters):\n",
    "    eff=0\n",
    "    for i in range(len(intcenters)):\n",
    "        if (o_centers[i]==intcenters[i]):\n",
    "            eff+=1\n",
    "    return (eff/len(intcenters))\n",
    "def changing_index(a,b,intcenters):\n",
    "    intcentersaux=np.where(intcenters==a, b,intcenters)\n",
    "    intcenters=np.where(intcenters==b,a,intcentersaux)\n",
    "    return intcenters\n",
    "def final_efficiency(o_centers,centers,k):\n",
    "    effmax=0\n",
    "    intcenters=makeitinteger(centers)\n",
    "    goodcenters=intcenters.copy()\n",
    "    for i in range(0,k-1):\n",
    "        for j in range(0,k):#1\n",
    "            intcentersaux=changing_index(i,j,intcenters)\n",
    "            \n",
    "            eff=compute_efficiency(o_centers,intcentersaux)\n",
    "            \n",
    "            if(eff>effmax):\n",
    "                effmax=eff\n",
    "                goodcenters=intcentersaux\n",
    "    return (effmax,goodcenters)\n",
    "def final_efficiency_converged(o_centers,centers,k):\n",
    "    intcenters=makeitinteger(centers)\n",
    "    stop=0\n",
    "    ef,intcenters=final_efficiency(o_centers,intcenters,k)# we are changing intcenters \n",
    "    while (stop==0):\n",
    "        efprime,intcentersprime=final_efficiency(o_centers,intcenters,k)\n",
    "        if (efprime==ef):\n",
    "            stop=1\n",
    "        else:\n",
    "            ef=efprime\n",
    "            intcenters=intcentersprime\n",
    "    return (ef,intcenters)"
   ]
  },
  {
   "cell_type": "code",
   "execution_count": 12,
   "metadata": {},
   "outputs": [],
   "source": [
    "# MAIN ALGORITHM\n",
    "def run_kmeans(n,k,std,massless,trials,iterations,limit,quantum,qsearch,random_init=True):\n",
    "    points,o_centers = get_data(n,k,std)\n",
    "    points = preprocess(points)# Normalize dataset\n",
    "    if(massless==True):\n",
    "        points=np.array(get_massless_vectors(points))\n",
    "    centroidslist=[]\n",
    "    centerslist=[]\n",
    "    for j in range(trials):\n",
    "        if (random_init):\n",
    "            centroids = initialize_centers(points,k)\n",
    "        else:\n",
    "            centroids = cent_init.plus_plus(points,k)\n",
    "        \n",
    "        for i in range(iterations):\n",
    "            centers = find_nearest_neighbour_quantum(points,centroids,k,quantum,qsearch)\n",
    "            centroids = find_centroids(points,centers,k) \n",
    "        centroids=np.sort(centroids,0)  \n",
    "        \n",
    "        \n",
    "        centroidslist=np.append(centroidslist,centroids)\n",
    "        centerslist=np.append(centerslist,centers)\n",
    "        centroidslistgood=centroidslist.reshape(j+1,k,len(points[0,:]))\n",
    "        centerslistgood=centerslist.reshape(j+1,len(centers))\n",
    "        reducedcentroids,indices,counts=np.unique(centroidslistgood,1,0,1,0)\n",
    "        if(max(counts)==3):\n",
    "            j=2*trials\n",
    "    fig=plt.figure()\n",
    "    draw_plot(fig,points[:,:],centers)\n",
    "    plot_centroids(fig,points,centroids[:,:])\n",
    "    if (max(counts)==1):\n",
    "        #limit=10\n",
    "        counts=centroids_differences(centroidslistgood,trials,limit,counts)\n",
    "    res=final_efficiency_converged(o_centers,centerslistgood[indices[np.argmax(counts)]],k)\n",
    "    return res,o_centers,centroidslistgood[indices[np.argmax(counts)]]\n"
   ]
  },
  {
   "cell_type": "code",
   "execution_count": 13,
   "metadata": {},
   "outputs": [
    {
     "data": {
      "text/plain": [
       "<Figure size 640x480 with 0 Axes>"
      ]
     },
     "metadata": {},
     "output_type": "display_data"
    },
    {
     "data": {
      "text/plain": [
       "<Figure size 640x480 with 0 Axes>"
      ]
     },
     "metadata": {},
     "output_type": "display_data"
    },
    {
     "data": {
      "text/plain": [
       "<Figure size 640x480 with 0 Axes>"
      ]
     },
     "metadata": {},
     "output_type": "display_data"
    },
    {
     "data": {
      "text/plain": [
       "<Figure size 640x480 with 0 Axes>"
      ]
     },
     "metadata": {},
     "output_type": "display_data"
    },
    {
     "data": {
      "text/plain": [
       "<Figure size 640x480 with 0 Axes>"
      ]
     },
     "metadata": {},
     "output_type": "display_data"
    },
    {
     "data": {
      "text/plain": [
       "<Figure size 640x480 with 0 Axes>"
      ]
     },
     "metadata": {},
     "output_type": "display_data"
    },
    {
     "data": {
      "text/plain": [
       "<Figure size 640x480 with 0 Axes>"
      ]
     },
     "metadata": {},
     "output_type": "display_data"
    },
    {
     "data": {
      "text/plain": [
       "<Figure size 640x480 with 0 Axes>"
      ]
     },
     "metadata": {},
     "output_type": "display_data"
    },
    {
     "data": {
      "text/plain": [
       "<Figure size 640x480 with 0 Axes>"
      ]
     },
     "metadata": {},
     "output_type": "display_data"
    },
    {
     "data": {
      "text/plain": [
       "<Figure size 640x480 with 0 Axes>"
      ]
     },
     "metadata": {},
     "output_type": "display_data"
    },
    {
     "data": {
      "text/plain": [
       "<Figure size 640x480 with 0 Axes>"
      ]
     },
     "metadata": {},
     "output_type": "display_data"
    },
    {
     "data": {
      "text/plain": [
       "<Figure size 640x480 with 0 Axes>"
      ]
     },
     "metadata": {},
     "output_type": "display_data"
    },
    {
     "data": {
      "text/plain": [
       "<Figure size 640x480 with 0 Axes>"
      ]
     },
     "metadata": {},
     "output_type": "display_data"
    },
    {
     "data": {
      "text/plain": [
       "<Figure size 640x480 with 0 Axes>"
      ]
     },
     "metadata": {},
     "output_type": "display_data"
    },
    {
     "data": {
      "text/plain": [
       "<Figure size 640x480 with 0 Axes>"
      ]
     },
     "metadata": {},
     "output_type": "display_data"
    },
    {
     "name": "stdout",
     "output_type": "stream",
     "text": [
      "[0.6633333333333333, 1.0, 1.0, 0.6933333333333334, 0.83, 0.98, 0.9633333333333334, 0.94, 0.91, 0.8466666666666667, 0.8133333333333334, 0.7233333333333334, 0.78, 0.6066666666666667, 0.7266666666666667]\n",
      "15\n"
     ]
    }
   ],
   "source": [
    "#Classical K-means with classical minkowski distance calculation and classical search for the minima\n",
    "#Using random initilization\n",
    "n=300\n",
    "k=4\n",
    "effs_c_r=[]\n",
    "#std=1\n",
    "\n",
    "for std in range(1,16):\n",
    "    massless= True\n",
    "    trials=3\n",
    "    iterations=5\n",
    "    limit=10\n",
    "    resul=run_kmeans(n,k,std/2,massless,trials,iterations,limit,\n",
    "                     quantum=False,qsearch=False,random_init=True)\n",
    "    effs_c_r.append(resul[0][0])\n",
    "print(effs_c_r)\n",
    "print(std)"
   ]
  },
  {
   "cell_type": "code",
   "execution_count": 14,
   "metadata": {
    "scrolled": true
   },
   "outputs": [
    {
     "data": {
      "text/plain": [
       "<Figure size 640x480 with 0 Axes>"
      ]
     },
     "metadata": {},
     "output_type": "display_data"
    },
    {
     "data": {
      "text/plain": [
       "<Figure size 640x480 with 0 Axes>"
      ]
     },
     "metadata": {},
     "output_type": "display_data"
    },
    {
     "data": {
      "text/plain": [
       "<Figure size 640x480 with 0 Axes>"
      ]
     },
     "metadata": {},
     "output_type": "display_data"
    },
    {
     "data": {
      "text/plain": [
       "<Figure size 640x480 with 0 Axes>"
      ]
     },
     "metadata": {},
     "output_type": "display_data"
    },
    {
     "data": {
      "text/plain": [
       "<Figure size 640x480 with 0 Axes>"
      ]
     },
     "metadata": {},
     "output_type": "display_data"
    },
    {
     "data": {
      "text/plain": [
       "<Figure size 640x480 with 0 Axes>"
      ]
     },
     "metadata": {},
     "output_type": "display_data"
    },
    {
     "data": {
      "text/plain": [
       "<Figure size 640x480 with 0 Axes>"
      ]
     },
     "metadata": {},
     "output_type": "display_data"
    },
    {
     "data": {
      "text/plain": [
       "<Figure size 640x480 with 0 Axes>"
      ]
     },
     "metadata": {},
     "output_type": "display_data"
    },
    {
     "data": {
      "text/plain": [
       "<Figure size 640x480 with 0 Axes>"
      ]
     },
     "metadata": {},
     "output_type": "display_data"
    },
    {
     "data": {
      "text/plain": [
       "<Figure size 640x480 with 0 Axes>"
      ]
     },
     "metadata": {},
     "output_type": "display_data"
    },
    {
     "data": {
      "text/plain": [
       "<Figure size 640x480 with 0 Axes>"
      ]
     },
     "metadata": {},
     "output_type": "display_data"
    },
    {
     "data": {
      "text/plain": [
       "<Figure size 640x480 with 0 Axes>"
      ]
     },
     "metadata": {},
     "output_type": "display_data"
    },
    {
     "data": {
      "text/plain": [
       "<Figure size 640x480 with 0 Axes>"
      ]
     },
     "metadata": {},
     "output_type": "display_data"
    },
    {
     "data": {
      "text/plain": [
       "<Figure size 640x480 with 0 Axes>"
      ]
     },
     "metadata": {},
     "output_type": "display_data"
    },
    {
     "data": {
      "text/plain": [
       "<Figure size 640x480 with 0 Axes>"
      ]
     },
     "metadata": {},
     "output_type": "display_data"
    },
    {
     "name": "stdout",
     "output_type": "stream",
     "text": [
      "[1.0, 1.0, 1.0, 1.0, 0.9933333333333333, 0.98, 0.9633333333333334, 0.79, 0.7266666666666667, 0.6633333333333333, 0.69, 0.61, 0.5866666666666667, 0.7533333333333333, 0.72]\n",
      "15\n"
     ]
    }
   ],
   "source": [
    "#Classical K-means with classical minkowski distance calculation and classical search for the minima\n",
    "#Using Kmeans++ initilization\n",
    "n=300\n",
    "k=4\n",
    "effs_c_plus=[]\n",
    "#std=1\n",
    "\n",
    "for std in range(1,16):\n",
    "    massless= True\n",
    "    trials=3\n",
    "    iterations=5\n",
    "    limit=10\n",
    "    resul=run_kmeans(n,k,std/2,massless,trials,iterations,limit,\n",
    "                     quantum=False,qsearch=False,random_init=False)\n",
    "    effs_c_plus.append(resul[0][0])\n",
    "print(effs_c_plus)\n",
    "print(std)"
   ]
  },
  {
   "cell_type": "code",
   "execution_count": 18,
   "metadata": {},
   "outputs": [
    {
     "data": {
      "text/plain": [
       "<Figure size 640x480 with 0 Axes>"
      ]
     },
     "metadata": {},
     "output_type": "display_data"
    },
    {
     "data": {
      "text/plain": [
       "<Figure size 640x480 with 0 Axes>"
      ]
     },
     "metadata": {},
     "output_type": "display_data"
    },
    {
     "data": {
      "text/plain": [
       "<Figure size 640x480 with 0 Axes>"
      ]
     },
     "metadata": {},
     "output_type": "display_data"
    },
    {
     "data": {
      "text/plain": [
       "<Figure size 640x480 with 0 Axes>"
      ]
     },
     "metadata": {},
     "output_type": "display_data"
    },
    {
     "data": {
      "text/plain": [
       "<Figure size 640x480 with 0 Axes>"
      ]
     },
     "metadata": {},
     "output_type": "display_data"
    },
    {
     "data": {
      "text/plain": [
       "<Figure size 640x480 with 0 Axes>"
      ]
     },
     "metadata": {},
     "output_type": "display_data"
    },
    {
     "data": {
      "text/plain": [
       "<Figure size 640x480 with 0 Axes>"
      ]
     },
     "metadata": {},
     "output_type": "display_data"
    },
    {
     "data": {
      "text/plain": [
       "<Figure size 640x480 with 0 Axes>"
      ]
     },
     "metadata": {},
     "output_type": "display_data"
    },
    {
     "data": {
      "text/plain": [
       "<Figure size 640x480 with 0 Axes>"
      ]
     },
     "metadata": {},
     "output_type": "display_data"
    },
    {
     "data": {
      "text/plain": [
       "<Figure size 640x480 with 0 Axes>"
      ]
     },
     "metadata": {},
     "output_type": "display_data"
    },
    {
     "data": {
      "text/plain": [
       "<Figure size 640x480 with 0 Axes>"
      ]
     },
     "metadata": {},
     "output_type": "display_data"
    },
    {
     "data": {
      "text/plain": [
       "<Figure size 640x480 with 0 Axes>"
      ]
     },
     "metadata": {},
     "output_type": "display_data"
    },
    {
     "data": {
      "text/plain": [
       "<Figure size 640x480 with 0 Axes>"
      ]
     },
     "metadata": {},
     "output_type": "display_data"
    },
    {
     "data": {
      "text/plain": [
       "<Figure size 640x480 with 0 Axes>"
      ]
     },
     "metadata": {},
     "output_type": "display_data"
    },
    {
     "data": {
      "text/plain": [
       "<Figure size 640x480 with 0 Axes>"
      ]
     },
     "metadata": {},
     "output_type": "display_data"
    },
    {
     "name": "stdout",
     "output_type": "stream",
     "text": [
      "[1.0, 1.0, 1.0, 1.0, 0.9933333333333333, 0.8366666666666667, 0.97, 0.9433333333333334, 0.64, 0.86, 0.83, 0.8, 0.6633333333333333, 0.65, 0.7266666666666667]\n",
      "15\n"
     ]
    }
   ],
   "source": [
    "#QUANTUM K-means with quantum minkowski distance calculation and quantum search for the minima\n",
    "#Using random initilization\n",
    "n=300\n",
    "k=4\n",
    "effs_q_r=[]\n",
    "#std=1\n",
    "\n",
    "for std in range(1,16):\n",
    "    massless= True\n",
    "    trials=3\n",
    "    iterations=5\n",
    "    limit=10\n",
    "    resul=run_kmeans(n,k,std/2,massless,trials,iterations,limit,\n",
    "                     quantum=True,qsearch=True,random_init=True)\n",
    "    effs_q_r.append(resul[0][0])\n",
    "print(effs_q_r)\n",
    "print(std)"
   ]
  },
  {
   "cell_type": "code",
   "execution_count": 16,
   "metadata": {},
   "outputs": [
    {
     "data": {
      "text/plain": [
       "<Figure size 640x480 with 0 Axes>"
      ]
     },
     "metadata": {},
     "output_type": "display_data"
    },
    {
     "data": {
      "text/plain": [
       "<Figure size 640x480 with 0 Axes>"
      ]
     },
     "metadata": {},
     "output_type": "display_data"
    },
    {
     "data": {
      "text/plain": [
       "<Figure size 640x480 with 0 Axes>"
      ]
     },
     "metadata": {},
     "output_type": "display_data"
    },
    {
     "data": {
      "text/plain": [
       "<Figure size 640x480 with 0 Axes>"
      ]
     },
     "metadata": {},
     "output_type": "display_data"
    },
    {
     "data": {
      "text/plain": [
       "<Figure size 640x480 with 0 Axes>"
      ]
     },
     "metadata": {},
     "output_type": "display_data"
    },
    {
     "data": {
      "text/plain": [
       "<Figure size 640x480 with 0 Axes>"
      ]
     },
     "metadata": {},
     "output_type": "display_data"
    },
    {
     "data": {
      "text/plain": [
       "<Figure size 640x480 with 0 Axes>"
      ]
     },
     "metadata": {},
     "output_type": "display_data"
    },
    {
     "data": {
      "text/plain": [
       "<Figure size 640x480 with 0 Axes>"
      ]
     },
     "metadata": {},
     "output_type": "display_data"
    },
    {
     "data": {
      "text/plain": [
       "<Figure size 640x480 with 0 Axes>"
      ]
     },
     "metadata": {},
     "output_type": "display_data"
    },
    {
     "data": {
      "text/plain": [
       "<Figure size 640x480 with 0 Axes>"
      ]
     },
     "metadata": {},
     "output_type": "display_data"
    },
    {
     "data": {
      "text/plain": [
       "<Figure size 640x480 with 0 Axes>"
      ]
     },
     "metadata": {},
     "output_type": "display_data"
    },
    {
     "data": {
      "text/plain": [
       "<Figure size 640x480 with 0 Axes>"
      ]
     },
     "metadata": {},
     "output_type": "display_data"
    },
    {
     "data": {
      "text/plain": [
       "<Figure size 640x480 with 0 Axes>"
      ]
     },
     "metadata": {},
     "output_type": "display_data"
    },
    {
     "data": {
      "text/plain": [
       "<Figure size 640x480 with 0 Axes>"
      ]
     },
     "metadata": {},
     "output_type": "display_data"
    },
    {
     "data": {
      "text/plain": [
       "<Figure size 640x480 with 0 Axes>"
      ]
     },
     "metadata": {},
     "output_type": "display_data"
    },
    {
     "name": "stdout",
     "output_type": "stream",
     "text": [
      "[1.0, 1.0, 1.0, 1.0, 0.9933333333333333, 0.98, 0.9566666666666667, 0.87, 0.7633333333333333, 0.7266666666666667, 0.6733333333333333, 0.6766666666666666, 0.6433333333333333, 0.7433333333333333, 0.6933333333333334]\n",
      "15\n"
     ]
    }
   ],
   "source": [
    "#QUANTUM K-means with quantum minkowski distance calculation and quantum search for the minima\n",
    "#Using Kmeans++ initilization\n",
    "n=300\n",
    "k=4\n",
    "effs_q_plus=[]\n",
    "#std=1\n",
    "\n",
    "for std in range(1,16):\n",
    "    massless= True\n",
    "    trials=3\n",
    "    iterations=5\n",
    "    limit=10\n",
    "    resul=run_kmeans(n,k,std/2,massless,trials,iterations,limit,\n",
    "                     quantum=True,qsearch=True,random_init=False)\n",
    "    effs_q_plus.append(resul[0][0])\n",
    "print(effs_q_plus)\n",
    "print(std)"
   ]
  },
  {
   "cell_type": "code",
   "execution_count": null,
   "metadata": {},
   "outputs": [],
   "source": []
  }
 ],
 "metadata": {
  "kernelspec": {
   "display_name": "Python 3 (ipykernel)",
   "language": "python",
   "name": "python3"
  },
  "language_info": {
   "codemirror_mode": {
    "name": "ipython",
    "version": 3
   },
   "file_extension": ".py",
   "mimetype": "text/x-python",
   "name": "python",
   "nbconvert_exporter": "python",
   "pygments_lexer": "ipython3",
   "version": "3.9.12"
  },
  "widgets": {
   "application/vnd.jupyter.widget-state+json": {
    "state": {},
    "version_major": 2,
    "version_minor": 0
   }
  }
 },
 "nbformat": 4,
 "nbformat_minor": 4
}
