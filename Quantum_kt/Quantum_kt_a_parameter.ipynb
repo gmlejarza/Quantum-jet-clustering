{
 "cells": [
  {
   "cell_type": "code",
   "execution_count": 1,
   "metadata": {},
   "outputs": [],
   "source": [
    "from math import pi\n",
    "import math\n",
    "import numpy as np\n",
    "\n",
    "import matplotlib.pyplot as plt\n",
    "from mpl_toolkits.mplot3d import Axes3D\n",
    "\n",
    "# import Qiskit\n",
    "from qiskit import Aer,  execute\n",
    "from qiskit import QuantumCircuit, ClassicalRegister, QuantumRegister\n",
    "\n",
    "from qiskit.aqua.components.feature_maps.raw_feature_vector import RawFeatureVector\n",
    "\n",
    "import warnings\n",
    "import itertools\n",
    "warnings.filterwarnings(\"ignore\", category=DeprecationWarning) \n",
    "plt.style.use('seaborn-whitegrid')"
   ]
  },
  {
   "cell_type": "code",
   "execution_count": 2,
   "metadata": {},
   "outputs": [],
   "source": [
    "# UTILS FOR COMPUTING EFFICIENCIES\n",
    "def makeitinteger(centers):\n",
    "    intcenters=[int(centers[0])]\n",
    "    for i in range(1,len(centers)):\n",
    "        integer=int(centers[i])\n",
    "        intcenters=np.append(intcenters,int(integer))\n",
    "    return intcenters\n",
    "def compute_efficiency(o_centers,intcenters):\n",
    "    eff=0\n",
    "    #intcenters=makeitinteger(centers)\n",
    "    for i in range(len(intcenters)):\n",
    "        if (o_centers[i]==intcenters[i]):\n",
    "            eff+=1\n",
    "    return (eff/len(intcenters))\n",
    "def changing_index(a,b,intcenters):\n",
    "    intcentersaux=np.where(intcenters==a, b,intcenters)\n",
    "    intcenters=np.where(intcenters==b,a,intcentersaux)\n",
    "    return intcenters\n",
    "def final_efficiency(o_centers,centers,k):\n",
    "    effmax=0\n",
    "    intcenters=makeitinteger(centers)\n",
    "    goodcenters=intcenters.copy()\n",
    "    for i in range(0,k-1):\n",
    "        for j in range(0,k):#1\n",
    "            intcentersaux=changing_index(i,j,intcenters)\n",
    "            \n",
    "            eff=compute_efficiency(o_centers,intcentersaux)\n",
    "            \n",
    "            if(eff>effmax):\n",
    "                effmax=eff\n",
    "                goodcenters=intcentersaux\n",
    "                intcenters=goodcenters\n",
    "    return (effmax,goodcenters)\n",
    "def final_efficiency_converged(o_centers,centers):\n",
    "    k=max(o_centers)+1\n",
    "    intcenters=makeitinteger(centers)\n",
    "    stop=0\n",
    "    ef,intcenters=final_efficiency(o_centers,intcenters,k)# we are changing intcenters \n",
    "    while (stop==0):\n",
    "        efprime,intcentersprime=final_efficiency(o_centers,intcenters,k)\n",
    "        if (efprime==ef):\n",
    "            stop=1\n",
    "        else:\n",
    "            ef=efprime\n",
    "            intcenters=intcentersprime\n",
    "    return (ef,intcenters)\n"
   ]
  },
  {
   "cell_type": "code",
   "execution_count": 3,
   "metadata": {},
   "outputs": [],
   "source": [
    "# OBTAINING QUANTUM MINIMUM\n",
    "def get_quantum_maximum(array,shots):\n",
    "    backend = Aer.get_backend('qasm_simulator') \n",
    "    X=np.array(array)\n",
    "    fvc = RawFeatureVector(len(X))\n",
    "    q1 = QuantumRegister(fvc.num_qubits)\n",
    "    minimum_circuit = fvc.construct_circuit(X, qr=q1)\n",
    "    minimum_circuit.measure_all()\n",
    "    result = execute(minimum_circuit, backend, shots=shots).result()\n",
    "    counts=result.get_counts()\n",
    "    max_value = max(counts.values())\n",
    "    max_values_counts = [x[0] for x in counts.items() if x[1] == max_value]\n",
    "    #result=counts.most_frequent()\n",
    "    result=max_values_counts[0]\n",
    "    \n",
    "    index_minimum=int(result,2)\n",
    "    return index_minimum\n",
    "def get_quantum_minimum(array,shots,a_power):\n",
    "    array_power=np.array(array)**a_power\n",
    "    array_inv=1/array_power\n",
    "    index_min=get_quantum_maximum(array_inv,shots)\n",
    "\n",
    "    return index_min"
   ]
  },
  {
   "cell_type": "code",
   "execution_count": 4,
   "metadata": {},
   "outputs": [],
   "source": [
    "# PROCESS AND TRANSFORMATION OF DATA\n",
    "\n",
    "def process_together(points):\n",
    "    maximum=points.max()\n",
    "    minimum=points.min()\n",
    "    points_std=(points-minimum)/(maximum-minimum)\n",
    "    points_scaled=points_std*(10-1)+1\n",
    "    return (points_scaled,maximum,minimum)\n",
    "\n",
    "def transform_all_to_angular_4(data_momentum_vector):\n",
    "    data_angular_vector=data_momentum_vector.copy()\n",
    "    for i in range(len(data_momentum_vector)):\n",
    "        data_angular_vector[i]=transform_to_angular_4(data_momentum_vector[i])\n",
    "    \n",
    "    return(data_angular_vector)\n",
    "    \n",
    "def transform_to_angular_4(data_momentum):\n",
    "    data_angular=data_momentum.copy()\n",
    "    data_angular[0]=(data_momentum[0]**2+data_momentum[1]**2)**0.5\n",
    "    data_angular[1]=0.5*np.log(abs((data_momentum[3]+data_momentum[2])/\n",
    "                            (data_momentum[3]-data_momentum[2])))#abs\n",
    "    data_angular[2]=math.atan(data_momentum[1]/data_momentum[0])\n",
    "    if(data_momentum[0]<0):\n",
    "        data_angular[2]+=pi\n",
    "    data_angular[3]=(data_momentum[3]**2-data_momentum[2]**2)**0.5#m_T\n",
    "    #data_angular[2]+=2*pi\n",
    "    return(data_angular)\n",
    "\n",
    "def transform_all_to_momentum_4(data_angular_vector):\n",
    "    data_momentum_vector=data_angular_vector.copy()\n",
    "    for i in range(len(data_momentum_vector)):\n",
    "        data_momentum_vector[i]=transform_to_momentum_4(data_angular_vector[i])\n",
    "    return(data_momentum_vector)\n",
    "def transform_to_momentum_4(data_angular):\n",
    "    data_momentum=data_angular.copy()\n",
    "    data_momentum[0]=data_angular[0]*math.cos(data_angular[2])\n",
    "    data_momentum[1]=data_angular[0]*math.sin(data_angular[2])\n",
    "    data_momentum[2]=data_angular[3]*math.sinh(data_angular[1])\n",
    "    data_momentum[3]=data_angular[3]*math.cosh(data_angular[1])\n",
    "    return data_momentum"
   ]
  },
  {
   "cell_type": "code",
   "execution_count": 5,
   "metadata": {},
   "outputs": [],
   "source": [
    "# FUNCTIONS TO FIND THE MINIMUM AMONG THE DISTANCES\n",
    "def find_minimum_cut(data,a,R,ptmin):\n",
    "    #data_aux=data.copy()\n",
    "    rapidity_plus_phi=data[:,1:3]\n",
    "    rapidity_plus_phi_processed,max_processed,min_processed=process_together(rapidity_plus_phi)\n",
    "    #print(rapidity_plus_phi_processed)\n",
    "    min_dis=10**10\n",
    "    lista=[]\n",
    "    for i in range(len(data)):\n",
    "        piB=data[i,0]**a\n",
    "        min_dis_j=10**10\n",
    "        #print(\"piB\",i,piB)\n",
    "        #lista.append([piB,i,len(data)+5])\n",
    "        for j in range(i+1,len(data)):\n",
    "            pij=kt_distance(data[i],data[j],rapidity_plus_phi_processed[i],\n",
    "                                rapidity_plus_phi_processed[j],max_processed,min_processed,\n",
    "                                a,R)\n",
    "                #print(\"pij\",i,j,pij)\n",
    "            #lista.append([pij,i,j])\n",
    "            if(pij<min_dis_j):\n",
    "                min_dis_j=pij\n",
    "                jlgood=j\n",
    "        if(min_dis_j<piB or data[i,0]<ptmin):\n",
    "            if(min_dis_j<min_dis):\n",
    "                min_dis=min_dis_j\n",
    "                igood=i\n",
    "                jgood=jlgood\n",
    "        else:\n",
    "            if(piB<=min_dis ):\n",
    "                min_dis=piB\n",
    "                igood=i\n",
    "                jgood=len(data)+5#the minimum distance is wrt to the beam\n",
    "    #print(lista)\n",
    "    return(min_dis,igood,jgood)\n",
    "\n",
    "def find_minimumN2_quantum_cut(data,a,R,ptcut,shots,a_power):\n",
    "    rapidity_plus_phi=data[:,1:3]\n",
    "    rapidity_plus_phi_processed,max_processed,min_processed=process_together(rapidity_plus_phi)\n",
    "    lista=[]\n",
    "    \n",
    "    for i in range(len(data)):\n",
    "        piB=data[i,0]**a\n",
    "        if (data[i,0]>ptcut):\n",
    "            lista.append([piB,i,len(data)+5])\n",
    "        else:\n",
    "            if(len(data)==2):\n",
    "                lista.append([piB+999999999999,i,len(data)+5])\n",
    "        listaj=[]\n",
    "        for j in range(i+1,len(data)):\n",
    "            pij=kt_distance(data[i],data[j],rapidity_plus_phi_processed[i],\n",
    "                                rapidity_plus_phi_processed[j],max_processed,min_processed,\n",
    "                                a,R)\n",
    "            listaj.append([pij,i,j])\n",
    "            \n",
    "        arrayj=np.array(listaj)\n",
    "        if(len(arrayj)>1):\n",
    "            indexj=get_quantum_minimum(arrayj[:,0],shots,a_power)\n",
    "            min_disj=arrayj[indexj,0]\n",
    "            igoodj=int(arrayj[indexj,1])\n",
    "            jgoodj=int(arrayj[indexj,2])\n",
    "            lista.append([min_disj,igoodj,jgoodj])\n",
    "        else:\n",
    "            if(len(arrayj)==1):\n",
    "                indexj=0\n",
    "                min_disj=arrayj[indexj,0]\n",
    "                igoodj=int(arrayj[indexj,1])\n",
    "                jgoodj=int(arrayj[indexj,2])\n",
    "                lista.append([min_disj,igoodj,jgoodj])\n",
    "    array=np.array(lista,dtype=object)\n",
    "    index=get_quantum_minimum(array[:,0],shots,a_power)\n",
    "    min_dis=array[index,0]\n",
    "    #print(array[index,1],array)\n",
    "    igood= int(array[index,1]) \n",
    "    jgood=int(array[index,2])\n",
    "    #print(lista)\n",
    "    return(min_dis,igood,jgood)"
   ]
  },
  {
   "cell_type": "code",
   "execution_count": 6,
   "metadata": {},
   "outputs": [],
   "source": [
    "# FUNCTIONS FOR RUNNING KT ALGORITHM\n",
    "\n",
    "def kt_distance(p1_angular,p2_angular,rapidity_plus_phi1,\n",
    "                                    rapidity_plus_phi2,max_processed,min_processed,a,R):\n",
    "\n",
    "    deltaR2=deltaR2_classical(p1_angular[1:3],p2_angular[1:3])\n",
    "    \n",
    "    min_pts=min(p1_angular[0]**a,p2_angular[0]**a)\n",
    "    dij=min_pts*deltaR2/(R**2)\n",
    "    return dij\n",
    "def deltaR2_classical(p1_angles,p2_angles):\n",
    "    return((p1_angles[0]-p2_angles[0])**2+(p1_angles[1]-p2_angles[1])**2)\n",
    "\n",
    "\n",
    "\n",
    "def merge_or_remove(indexes,indexes_jets,final_jets,data_angular,\n",
    "                    data_momentum,a,R,qsearch,ptcut,shots,a_power):\n",
    "\n",
    "    if(qsearch):\n",
    "        min_dis,i,j=find_minimumN2_quantum_cut(data_angular,a,R,ptcut,shots,a_power)#quantum\n",
    "    else:\n",
    "        min_dis,i,j=find_minimum_cut(data_angular,a,R,ptcut)\n",
    "    \n",
    "\n",
    "    final_jets_copy=final_jets.copy()\n",
    "    if(j==(len(data_angular)+5)):\n",
    "        #print(\"remove:\",i,min_dis,data_angular[i,0])\n",
    "        indexes_jets,indexes,final_jets_copy,data_angular,data_momentum=remove(indexes,indexes_jets,final_jets_copy,data_angular,data_momentum,i)\n",
    "        #print(indexes_jets)\n",
    "    else:\n",
    "        #print(\"merge:\",i,j,min_dis)\n",
    "        indexes,data_angular,data_momentum=merge(indexes,data_angular,data_momentum,i,j)\n",
    "    return(final_jets_copy,data_angular,data_momentum,min_dis,indexes,indexes_jets)\n",
    "def remove(indexes,indexes_jets,final_jets,data_angular,data_momentum,i):\n",
    "    if (len(final_jets)==0):\n",
    "        final_jets=[data_angular[i]]\n",
    "    else:\n",
    "        final_jets=np.concatenate((final_jets,[data_angular[i]]),0)\n",
    "    indexes_jets.append(indexes[i])\n",
    "    indexes_jets[len(indexes_jets)-1]=list(itertools.chain(*indexes_jets[len(indexes_jets)-1]))\n",
    "    indexes.pop(i)\n",
    "    return(indexes_jets,indexes,final_jets,np.delete(data_angular,i,0),np.delete(data_momentum,i,0))\n",
    "def merge(indexes,data_angular,data_momentum,i,j):\n",
    "    \n",
    "    data_momentum[i]=data_momentum[i]+data_momentum[j]\n",
    "    data_angular[i]=transform_to_angular_4(data_momentum[i])#we introduce the 4\n",
    "    data_angular=np.delete(data_angular,j,0)\n",
    "    data_momentum=np.delete(data_momentum,j,0)\n",
    "    indexes[i].append(list(itertools.chain(*indexes[j])))\n",
    "    indexes.pop(j)\n",
    "    return(indexes,data_angular,data_momentum)\n",
    "\n"
   ]
  },
  {
   "cell_type": "code",
   "execution_count": 7,
   "metadata": {},
   "outputs": [],
   "source": [
    "# ANTIKT, KT AND CAM/AACHEN ALGORITHM\n",
    "def run_kt_inclusive(data_angular,data_momentum,a,R,qsearch,ptcut,shots,a_power):\n",
    "    data_angular_copy=data_angular.copy()\n",
    "    data_momentum_copy=data_momentum.copy()\n",
    "    final_jets=[]\n",
    "    indexes_jets=[]\n",
    "    \n",
    "    indexes=[]\n",
    "    for i in range(len(data_angular)):\n",
    "        indexes.append([[i]])\n",
    "    while (len(data_momentum_copy)>1):\n",
    "        final_jets,data_angular_copy,data_momentum_copy,min_dis,indexes,indexes_jets=merge_or_remove(\n",
    "            indexes,indexes_jets,final_jets,data_angular_copy,\n",
    "            data_momentum_copy,a,R,qsearch,ptcut,shots,a_power)\n",
    "        \n",
    "    a,b,final_jets,data_angular_copy,data_momentum_copy=remove(indexes,indexes_jets,final_jets,data_angular_copy,data_momentum_copy,0)\n",
    "    #final_jets,indexes_jets=merge_or_remove_last(indexes,indexes_jets,final_jets,data_angular_copy,data_momentum_copy,a,R,quantum,ptcut)\n",
    "    #for i in range(len(indexes_jets)):\n",
    "    #    indexes_jets[i]=list(itertools.chain(*indexes_jets[i]))\n",
    "    return(final_jets,data_angular_copy,data_momentum_copy,indexes_jets,indexes) "
   ]
  },
  {
   "cell_type": "code",
   "execution_count": 8,
   "metadata": {},
   "outputs": [],
   "source": [
    "points=np.loadtxt('realdata.txt')"
   ]
  },
  {
   "cell_type": "code",
   "execution_count": 9,
   "metadata": {},
   "outputs": [
    {
     "name": "stdout",
     "output_type": "stream",
     "text": [
      "[3, 5, 3, 0, 3, 0, 0, 2, 3, 1, 3, 8, 3, 0, 3, 6, 3, 2, 0, 3, 3, 0, 9, 3, 3, 1, 8, 3, 3, 7, 0, 3, 4, 0, 0, 1, 0, 2, 0, 3, 0, 7, 0, 7, 6, 0, 9, 0, 9, 0, 6, 9, 0, 1, 4, 0, 6, 0, 0, 3, 2, 0, 0, 3, 2, 2, 2, 2, 2, 2, 2, 2, 2, 2, 2, 2, 2, 2, 2, 2, 2, 2, 2, 2, 2, 2, 2, 2, 2, 2, 2, 2, 2, 2, 2, 2, 1, 1, 1, 1, 1, 1, 1, 1, 1, 1, 1, 1, 1, 1, 1, 1, 1, 1, 1, 1, 1, 1, 1, 1, 1, 1, 1, 1, 1, 1, 1, 1]\n"
     ]
    }
   ],
   "source": [
    "#CLASSIC ANTI KT A_POWER=1\n",
    "a=-2 #antikt\n",
    "R=1\n",
    "ptcut=10 #GeV\n",
    "qsearch=False\n",
    "a_power=1\n",
    "shots=50\n",
    "points_energy=points\n",
    "points_angular=transform_all_to_angular_4(points_energy)\n",
    "\n",
    "jets_minus2_c_a1=run_kt_inclusive(points_angular,points_energy,a,R,qsearch,ptcut,shots,a_power)\n",
    "final_jets_mom_minus2_c_a1=transform_all_to_momentum_4(jets_minus2_c_a1[0])\n",
    "\n",
    "list_minus2_c_a1=list(np.arange(len(points)))\n",
    "sol_minus2_c_a1=jets_minus2_c_a1[3]\n",
    "#print(sol[1].index(13))\n",
    "for i in range(len(final_jets_mom_minus2_c_a1)):\n",
    "    for j in range(len(sol_minus2_c_a1[i])):\n",
    "        list_minus2_c_a1[sol_minus2_c_a1[i][j]]=i\n",
    "centers_minus2_c_a1 = np.array(list_minus2_c_a1)    \n",
    "print(list_minus2_c_a1)"
   ]
  },
  {
   "cell_type": "code",
   "execution_count": 10,
   "metadata": {},
   "outputs": [
    {
     "name": "stdout",
     "output_type": "stream",
     "text": [
      "[3, 1, 3, 6, 3, 6, 6, 3, 3, 5, 3, 3, 3, 6, 3, 6, 3, 4, 6, 3, 3, 6, 1, 3, 3, 5, 3, 3, 3, 3, 6, 3, 2, 6, 6, 5, 6, 4, 6, 3, 6, 0, 6, 0, 6, 6, 3, 6, 5, 6, 6, 6, 6, 5, 6, 6, 6, 6, 6, 3, 4, 6, 6, 3, 4, 4, 4, 4, 4, 4, 4, 4, 4, 4, 4, 4, 4, 4, 4, 4, 4, 4, 4, 4, 4, 4, 4, 4, 4, 4, 4, 4, 4, 4, 4, 4, 5, 5, 5, 5, 5, 5, 5, 5, 5, 5, 5, 5, 5, 5, 5, 5, 5, 5, 5, 5, 5, 5, 5, 5, 5, 5, 5, 5, 5, 5, 5, 5]\n"
     ]
    }
   ],
   "source": [
    "#CLASSIC KT A_POWER=1\n",
    "a=2 #kt\n",
    "R=1\n",
    "ptcut=10 #GeV\n",
    "qsearch=False\n",
    "a_power=1\n",
    "shots=50\n",
    "points_energy=points\n",
    "points_angular=transform_all_to_angular_4(points_energy)\n",
    "\n",
    "jets_2_c_a1=run_kt_inclusive(points_angular,points_energy,a,R,qsearch,ptcut,shots,a_power)\n",
    "final_jets_mom_2_c_a1=transform_all_to_momentum_4(jets_2_c_a1[0])\n",
    "\n",
    "list_2_c_a1=list(np.arange(len(points)))\n",
    "sol_2_c_a1=jets_2_c_a1[3]\n",
    "\n",
    "for i in range(len(final_jets_mom_2_c_a1)):\n",
    "    for j in range(len(sol_2_c_a1[i])):\n",
    "        list_2_c_a1[sol_2_c_a1[i][j]]=i\n",
    "centers_2_c_a1 = np.array(list_2_c_a1)    \n",
    "print(list_2_c_a1)"
   ]
  },
  {
   "cell_type": "code",
   "execution_count": 11,
   "metadata": {},
   "outputs": [
    {
     "name": "stdout",
     "output_type": "stream",
     "text": [
      "[8, 7, 8, 6, 8, 6, 6, 8, 8, 5, 8, 8, 8, 6, 8, 4, 8, 3, 6, 8, 8, 6, 9, 8, 8, 3, 8, 8, 8, 8, 6, 8, 2, 6, 6, 1, 6, 3, 6, 8, 6, 0, 6, 0, 1, 6, 8, 6, 9, 4, 4, 6, 6, 1, 4, 6, 4, 6, 6, 8, 3, 6, 1, 8, 3, 3, 3, 3, 3, 3, 3, 3, 3, 3, 3, 3, 3, 3, 3, 3, 3, 3, 3, 3, 3, 3, 3, 3, 3, 3, 3, 3, 3, 3, 3, 3, 5, 5, 5, 5, 5, 5, 5, 5, 5, 5, 5, 5, 5, 5, 5, 5, 5, 5, 5, 5, 5, 5, 5, 5, 5, 5, 5, 5, 5, 5, 5, 5]\n"
     ]
    }
   ],
   "source": [
    "#CLASSIC CAM/AACHEN A_POWER=1\n",
    "a=0 #Cam\n",
    "R=1\n",
    "ptcut=10 #GeV\n",
    "qsearch=False\n",
    "a_power=1\n",
    "shots=50\n",
    "points_energy=points\n",
    "points_angular=transform_all_to_angular_4(points_energy)\n",
    "\n",
    "jets_0_c_a1=run_kt_inclusive(points_angular,points_energy,a,R,qsearch,ptcut,shots,a_power)\n",
    "final_jets_mom_0_c_a1=transform_all_to_momentum_4(jets_0_c_a1[0])\n",
    "\n",
    "list_0_c_a1=list(np.arange(len(points)))\n",
    "sol_0_c_a1=jets_0_c_a1[3]\n",
    "\n",
    "for i in range(len(final_jets_mom_0_c_a1)):\n",
    "    for j in range(len(sol_0_c_a1[i])):\n",
    "        list_0_c_a1[sol_0_c_a1[i][j]]=i\n",
    "centers_0_c_a1 = np.array(list_0_c_a1)    \n",
    "print(list_0_c_a1)"
   ]
  },
  {
   "cell_type": "code",
   "execution_count": 12,
   "metadata": {},
   "outputs": [
    {
     "name": "stdout",
     "output_type": "stream",
     "text": [
      "[3, 5, 3, 0, 3, 0, 0, 2, 3, 1, 3, 8, 3, 0, 3, 0, 3, 2, 0, 3, 3, 0, 9, 3, 3, 1, 8, 3, 3, 7, 0, 3, 4, 0, 0, 1, 0, 2, 0, 3, 0, 7, 0, 7, 6, 0, 9, 0, 9, 0, 6, 9, 0, 1, 4, 0, 6, 0, 0, 3, 2, 0, 0, 3, 2, 2, 2, 2, 2, 2, 2, 2, 2, 2, 2, 2, 2, 2, 2, 2, 2, 2, 2, 2, 2, 2, 2, 2, 2, 2, 2, 2, 2, 2, 2, 2, 1, 1, 1, 1, 1, 1, 1, 1, 1, 1, 1, 1, 1, 1, 1, 1, 1, 1, 1, 1, 1, 1, 1, 1, 1, 1, 1, 1, 1, 1, 1, 1]\n"
     ]
    }
   ],
   "source": [
    "#QUANTUM ANTI KT A_POWER=1\n",
    "a=-2 #antikt\n",
    "R=1\n",
    "ptcut=10 #GeV\n",
    "qsearch=True\n",
    "a_power=1\n",
    "shots=50\n",
    "points_energy=points\n",
    "points_angular=transform_all_to_angular_4(points_energy)\n",
    "\n",
    "jets_minus2_q_a1=run_kt_inclusive(points_angular,points_energy,a,R,qsearch,ptcut,shots,a_power)\n",
    "final_jets_mom_minus2_q_a1=transform_all_to_momentum_4(jets_minus2_q_a1[0])\n",
    "\n",
    "list_minus2_q_a1=list(np.arange(len(points)))\n",
    "sol_minus2_q_a1=jets_minus2_q_a1[3]\n",
    "#print(sol[1].index(13))\n",
    "for i in range(len(final_jets_mom_minus2_q_a1)):\n",
    "    for j in range(len(sol_minus2_q_a1[i])):\n",
    "        list_minus2_q_a1[sol_minus2_q_a1[i][j]]=i\n",
    "centers_minus2_q_a1 = np.array(list_minus2_q_a1)    \n",
    "print(list_minus2_q_a1)"
   ]
  },
  {
   "cell_type": "code",
   "execution_count": 63,
   "metadata": {},
   "outputs": [
    {
     "name": "stdout",
     "output_type": "stream",
     "text": [
      "[4, 1, 4, 6, 4, 6, 6, 4, 4, 5, 4, 4, 4, 6, 4, 6, 4, 3, 6, 4, 4, 6, 1, 4, 4, 5, 4, 4, 4, 4, 6, 4, 2, 6, 6, 6, 6, 3, 6, 4, 6, 0, 6, 0, 6, 6, 4, 6, 6, 6, 6, 6, 6, 6, 6, 6, 6, 6, 6, 4, 3, 6, 6, 4, 3, 3, 3, 3, 3, 3, 3, 3, 3, 3, 3, 3, 3, 3, 3, 3, 3, 3, 3, 3, 3, 3, 3, 3, 3, 3, 3, 3, 3, 3, 3, 3, 5, 5, 5, 5, 5, 5, 5, 5, 5, 5, 5, 5, 5, 5, 5, 5, 5, 5, 5, 5, 5, 5, 5, 5, 5, 5, 5, 5, 5, 5, 5, 5]\n"
     ]
    }
   ],
   "source": [
    "#QUANTUM KT A_POWER=1\n",
    "a=2 #kt\n",
    "R=1\n",
    "ptcut=10 #GeV\n",
    "qsearch=True\n",
    "a_power=1\n",
    "shots=50\n",
    "points_energy=points\n",
    "points_angular=transform_all_to_angular_4(points_energy)\n",
    "\n",
    "jets_2_q_a1=run_kt_inclusive(points_angular,points_energy,a,R,qsearch,ptcut,shots,a_power)\n",
    "final_jets_mom_2_q_a1=transform_all_to_momentum_4(jets_2_q_a1[0])\n",
    "\n",
    "list_2_q_a1=list(np.arange(len(points)))\n",
    "sol_2_q_a1=jets_2_q_a1[3]\n",
    "\n",
    "for i in range(len(final_jets_mom_2_q_a1)):\n",
    "    for j in range(len(sol_2_q_a1[i])):\n",
    "        list_2_q_a1[sol_2_q_a1[i][j]]=i\n",
    "centers_2_q_a1 = np.array(list_2_q_a1)    \n",
    "print(list_2_q_a1)"
   ]
  },
  {
   "cell_type": "code",
   "execution_count": 14,
   "metadata": {},
   "outputs": [
    {
     "name": "stdout",
     "output_type": "stream",
     "text": [
      "[1, 7, 1, 4, 1, 4, 4, 1, 1, 1, 1, 1, 1, 4, 1, 0, 1, 2, 4, 1, 1, 4, 8, 1, 1, 2, 1, 1, 1, 1, 4, 1, 3, 4, 4, 6, 0, 2, 4, 1, 4, 5, 4, 5, 0, 4, 1, 4, 8, 0, 0, 4, 4, 6, 0, 4, 0, 4, 4, 1, 2, 0, 0, 1, 2, 2, 2, 2, 2, 2, 2, 2, 2, 2, 2, 2, 2, 2, 2, 2, 2, 2, 2, 2, 2, 2, 2, 2, 2, 2, 2, 2, 2, 2, 2, 2, 6, 6, 6, 6, 6, 6, 6, 6, 6, 6, 6, 6, 6, 6, 6, 6, 6, 6, 6, 6, 6, 6, 6, 6, 6, 6, 6, 6, 6, 6, 6, 6]\n"
     ]
    }
   ],
   "source": [
    "#QUANTUM CAM/AACHEN A_POWER=1\n",
    "a=0 #Cam\n",
    "R=1\n",
    "ptcut=10 #GeV\n",
    "qsearch=True\n",
    "a_power=1\n",
    "shots=70\n",
    "points_energy=points\n",
    "points_angular=transform_all_to_angular_4(points_energy)\n",
    "\n",
    "jets_0_q_a1=run_kt_inclusive(points_angular,points_energy,a,R,qsearch,ptcut,shots,a_power)\n",
    "final_jets_mom_0_q_a1=transform_all_to_momentum_4(jets_0_q_a1[0])\n",
    "\n",
    "list_0_q_a1=list(np.arange(len(points)))\n",
    "sol_0_q_a1=jets_0_q_a1[3]\n",
    "\n",
    "for i in range(len(final_jets_mom_0_q_a1)):\n",
    "    for j in range(len(sol_0_q_a1[i])):\n",
    "        list_0_q_a1[sol_0_q_a1[i][j]]=i\n",
    "centers_0_q_a1 = np.array(list_0_q_a1)    \n",
    "print(list_0_q_a1)"
   ]
  },
  {
   "cell_type": "code",
   "execution_count": 64,
   "metadata": {},
   "outputs": [
    {
     "name": "stdout",
     "output_type": "stream",
     "text": [
      "0.9921875 0.9765625 0.9453125\n"
     ]
    }
   ],
   "source": [
    "eff_antikt_a1,centers_minus2_q_a1_corrected=final_efficiency_converged(\n",
    "    centers_minus2_c_a1,centers_minus2_q_a1)\n",
    "eff_kt_a1,centers_2_q_a1_corrected=final_efficiency_converged(centers_2_c_a1,centers_2_q_a1)\n",
    "eff_cam_a1,centers_0_q_a1_corrected=final_efficiency_converged(centers_0_c_a1,centers_0_q_a1)\n",
    "print(eff_antikt_a1,eff_kt_a1,eff_cam_a1)"
   ]
  },
  {
   "cell_type": "code",
   "execution_count": 35,
   "metadata": {},
   "outputs": [
    {
     "name": "stdout",
     "output_type": "stream",
     "text": [
      "[3, 5, 3, 0, 3, 0, 0, 2, 3, 1, 3, 8, 3, 0, 3, 6, 3, 2, 0, 3, 3, 0, 9, 3, 3, 1, 8, 3, 3, 7, 0, 3, 4, 0, 0, 1, 0, 2, 0, 3, 0, 7, 0, 7, 6, 0, 9, 0, 9, 0, 6, 9, 0, 1, 4, 0, 6, 0, 0, 3, 2, 0, 0, 3, 2, 2, 2, 2, 2, 2, 2, 2, 2, 2, 2, 2, 2, 2, 2, 2, 2, 2, 2, 2, 2, 2, 2, 2, 2, 2, 2, 2, 2, 2, 2, 2, 1, 1, 1, 1, 1, 1, 1, 1, 1, 1, 1, 1, 1, 1, 1, 1, 1, 1, 1, 1, 1, 1, 1, 1, 1, 1, 1, 1, 1, 1, 1, 1]\n"
     ]
    }
   ],
   "source": [
    "#CLASSIC ANTI KT A_POWER=2\n",
    "a=-2 #antikt\n",
    "R=1\n",
    "ptcut=10 #GeV\n",
    "qsearch=False\n",
    "a_power=2\n",
    "shots=50\n",
    "points_energy=points\n",
    "points_angular=transform_all_to_angular_4(points_energy)\n",
    "\n",
    "jets_minus2_c_a2=run_kt_inclusive(points_angular,points_energy,a,R,qsearch,ptcut,shots,a_power)\n",
    "final_jets_mom_minus2_c_a2=transform_all_to_momentum_4(jets_minus2_c_a2[0])\n",
    "\n",
    "list_minus2_c_a2=list(np.arange(len(points)))\n",
    "sol_minus2_c_a2=jets_minus2_c_a2[3]\n",
    "#print(sol[1].index(13))\n",
    "for i in range(len(final_jets_mom_minus2_c_a2)):\n",
    "    for j in range(len(sol_minus2_c_a2[i])):\n",
    "        list_minus2_c_a2[sol_minus2_c_a2[i][j]]=i\n",
    "centers_minus2_c_a2 = np.array(list_minus2_c_a2)    \n",
    "print(list_minus2_c_a2)"
   ]
  },
  {
   "cell_type": "code",
   "execution_count": 36,
   "metadata": {},
   "outputs": [
    {
     "name": "stdout",
     "output_type": "stream",
     "text": [
      "[3, 1, 3, 6, 3, 6, 6, 3, 3, 5, 3, 3, 3, 6, 3, 6, 3, 4, 6, 3, 3, 6, 1, 3, 3, 5, 3, 3, 3, 3, 6, 3, 2, 6, 6, 5, 6, 4, 6, 3, 6, 0, 6, 0, 6, 6, 3, 6, 5, 6, 6, 6, 6, 5, 6, 6, 6, 6, 6, 3, 4, 6, 6, 3, 4, 4, 4, 4, 4, 4, 4, 4, 4, 4, 4, 4, 4, 4, 4, 4, 4, 4, 4, 4, 4, 4, 4, 4, 4, 4, 4, 4, 4, 4, 4, 4, 5, 5, 5, 5, 5, 5, 5, 5, 5, 5, 5, 5, 5, 5, 5, 5, 5, 5, 5, 5, 5, 5, 5, 5, 5, 5, 5, 5, 5, 5, 5, 5]\n"
     ]
    }
   ],
   "source": [
    "#CLASSIC KT A_POWER=2\n",
    "a=2 #kt\n",
    "R=1\n",
    "ptcut=10 #GeV\n",
    "qsearch=False\n",
    "a_power=2\n",
    "shots=50\n",
    "points_energy=points\n",
    "points_angular=transform_all_to_angular_4(points_energy)\n",
    "\n",
    "jets_2_c_a2=run_kt_inclusive(points_angular,points_energy,a,R,qsearch,ptcut,shots,a_power)\n",
    "final_jets_mom_2_c_a2=transform_all_to_momentum_4(jets_2_c_a2[0])\n",
    "\n",
    "list_2_c_a2=list(np.arange(len(points)))\n",
    "sol_2_c_a2=jets_2_c_a2[3]\n",
    "\n",
    "for i in range(len(final_jets_mom_2_c_a2)):\n",
    "    for j in range(len(sol_2_c_a2[i])):\n",
    "        list_2_c_a2[sol_2_c_a2[i][j]]=i\n",
    "centers_2_c_a2 = np.array(list_2_c_a2)    \n",
    "print(list_2_c_a2)"
   ]
  },
  {
   "cell_type": "code",
   "execution_count": 37,
   "metadata": {},
   "outputs": [
    {
     "name": "stdout",
     "output_type": "stream",
     "text": [
      "[8, 7, 8, 6, 8, 6, 6, 8, 8, 5, 8, 8, 8, 6, 8, 4, 8, 3, 6, 8, 8, 6, 9, 8, 8, 3, 8, 8, 8, 8, 6, 8, 2, 6, 6, 1, 6, 3, 6, 8, 6, 0, 6, 0, 1, 6, 8, 6, 9, 4, 4, 6, 6, 1, 4, 6, 4, 6, 6, 8, 3, 6, 1, 8, 3, 3, 3, 3, 3, 3, 3, 3, 3, 3, 3, 3, 3, 3, 3, 3, 3, 3, 3, 3, 3, 3, 3, 3, 3, 3, 3, 3, 3, 3, 3, 3, 5, 5, 5, 5, 5, 5, 5, 5, 5, 5, 5, 5, 5, 5, 5, 5, 5, 5, 5, 5, 5, 5, 5, 5, 5, 5, 5, 5, 5, 5, 5, 5]\n"
     ]
    }
   ],
   "source": [
    "#CLASSIC CAM/AACHEN A_POWER=2\n",
    "a=0 #Cam\n",
    "R=1\n",
    "ptcut=10 #GeV\n",
    "qsearch=False\n",
    "a_power=2\n",
    "shots=70\n",
    "points_energy=points\n",
    "points_angular=transform_all_to_angular_4(points_energy)\n",
    "\n",
    "jets_0_c_a2=run_kt_inclusive(points_angular,points_energy,a,R,qsearch,ptcut,shots,a_power)\n",
    "final_jets_mom_0_c_a2=transform_all_to_momentum_4(jets_0_c_a2[0])\n",
    "\n",
    "list_0_c_a2=list(np.arange(len(points)))\n",
    "sol_0_c_a2=jets_0_c_a2[3]\n",
    "\n",
    "for i in range(len(final_jets_mom_0_c_a2)):\n",
    "    for j in range(len(sol_0_c_a2[i])):\n",
    "        list_0_c_a2[sol_0_c_a2[i][j]]=i\n",
    "centers_0_c_a2 = np.array(list_0_c_a2)    \n",
    "print(list_0_c_a2)"
   ]
  },
  {
   "cell_type": "code",
   "execution_count": 19,
   "metadata": {},
   "outputs": [
    {
     "name": "stdout",
     "output_type": "stream",
     "text": [
      "[3, 5, 3, 0, 3, 0, 0, 2, 3, 1, 3, 8, 3, 0, 3, 6, 3, 2, 0, 3, 3, 0, 9, 3, 3, 1, 8, 3, 3, 7, 0, 3, 4, 0, 0, 1, 0, 2, 0, 3, 0, 7, 0, 7, 6, 0, 9, 0, 9, 6, 6, 9, 0, 1, 6, 0, 6, 0, 0, 3, 2, 0, 0, 3, 2, 2, 2, 2, 2, 2, 2, 2, 2, 2, 2, 2, 2, 2, 2, 2, 2, 2, 2, 2, 2, 2, 2, 2, 2, 2, 2, 2, 2, 2, 2, 2, 1, 1, 1, 1, 1, 1, 1, 1, 1, 1, 1, 1, 1, 1, 1, 1, 1, 1, 1, 1, 1, 1, 1, 1, 1, 1, 1, 1, 1, 1, 1, 1]\n"
     ]
    }
   ],
   "source": [
    "#QUANTUM ANTI KT A_POWER=2\n",
    "a=-2 #antikt\n",
    "R=1\n",
    "ptcut=10 #GeV\n",
    "qsearch=True\n",
    "a_power=2\n",
    "shots=50\n",
    "points_energy=points\n",
    "points_angular=transform_all_to_angular_4(points_energy)\n",
    "\n",
    "jets_minus2_q_a2=run_kt_inclusive(points_angular,points_energy,a,R,qsearch,ptcut,shots,a_power)\n",
    "final_jets_mom_minus2_q_a2=transform_all_to_momentum_4(jets_minus2_q_a2[0])\n",
    "\n",
    "list_minus2_q_a2=list(np.arange(len(points)))\n",
    "sol_minus2_q_a2=jets_minus2_q_a2[3]\n",
    "#print(sol[1].index(13))\n",
    "for i in range(len(final_jets_mom_minus2_q_a2)):\n",
    "    for j in range(len(sol_minus2_q_a2[i])):\n",
    "        list_minus2_q_a2[sol_minus2_q_a2[i][j]]=i\n",
    "centers_minus2_q_a2 = np.array(list_minus2_q_a2)    \n",
    "print(list_minus2_q_a2)"
   ]
  },
  {
   "cell_type": "code",
   "execution_count": 23,
   "metadata": {},
   "outputs": [
    {
     "name": "stdout",
     "output_type": "stream",
     "text": [
      "[3, 1, 3, 6, 3, 6, 6, 3, 3, 5, 3, 3, 3, 6, 3, 6, 3, 4, 6, 3, 3, 6, 1, 3, 3, 5, 3, 3, 3, 3, 6, 3, 2, 6, 6, 5, 6, 4, 6, 3, 6, 0, 6, 0, 6, 6, 3, 6, 6, 6, 6, 6, 6, 5, 6, 6, 6, 6, 6, 3, 4, 6, 6, 3, 4, 4, 4, 4, 4, 4, 4, 4, 4, 4, 4, 4, 4, 4, 4, 4, 4, 4, 4, 4, 4, 4, 4, 4, 4, 4, 4, 4, 4, 4, 4, 4, 5, 5, 5, 5, 5, 5, 5, 5, 5, 5, 5, 5, 5, 5, 5, 5, 5, 5, 5, 5, 5, 5, 5, 5, 5, 5, 5, 5, 5, 5, 5, 5]\n"
     ]
    }
   ],
   "source": [
    "#QUANTUM KT A_POWER=2\n",
    "a=2 #kt\n",
    "R=1\n",
    "ptcut=10 #GeV\n",
    "qsearch=True\n",
    "a_power=2\n",
    "shots=50\n",
    "points_energy=points\n",
    "points_angular=transform_all_to_angular_4(points_energy)\n",
    "\n",
    "jets_2_q_a2=run_kt_inclusive(points_angular,points_energy,a,R,qsearch,ptcut,shots,a_power)\n",
    "final_jets_mom_2_q_a2=transform_all_to_momentum_4(jets_2_q_a2[0])\n",
    "\n",
    "list_2_q_a2=list(np.arange(len(points)))\n",
    "sol_2_q_a2=jets_2_q_a2[3]\n",
    "\n",
    "for i in range(len(final_jets_mom_2_q_a2)):\n",
    "    for j in range(len(sol_2_q_a2[i])):\n",
    "        list_2_q_a2[sol_2_q_a2[i][j]]=i\n",
    "centers_2_q_a2 = np.array(list_2_q_a2)    \n",
    "print(list_2_q_a2)"
   ]
  },
  {
   "cell_type": "code",
   "execution_count": 24,
   "metadata": {},
   "outputs": [
    {
     "name": "stdout",
     "output_type": "stream",
     "text": [
      "[8, 4, 8, 1, 8, 1, 1, 8, 8, 0, 8, 8, 8, 1, 8, 1, 8, 5, 1, 8, 8, 1, 9, 8, 8, 5, 8, 8, 8, 8, 1, 8, 2, 1, 1, 7, 1, 5, 1, 8, 1, 6, 1, 6, 7, 1, 8, 1, 9, 1, 3, 1, 1, 7, 3, 1, 3, 1, 1, 8, 5, 1, 7, 8, 5, 5, 5, 5, 5, 5, 5, 5, 5, 5, 5, 5, 5, 5, 5, 5, 5, 5, 5, 5, 5, 5, 5, 5, 5, 5, 5, 5, 5, 5, 5, 5, 0, 0, 0, 0, 0, 0, 0, 0, 0, 0, 0, 0, 0, 0, 0, 0, 0, 0, 0, 0, 0, 0, 0, 0, 0, 0, 0, 0, 0, 0, 0, 0]\n"
     ]
    }
   ],
   "source": [
    "#QUANTUM CAM/AACHEN A_POWER=2\n",
    "a=0 #Cam\n",
    "R=1\n",
    "ptcut=10 #GeV\n",
    "qsearch=True\n",
    "a_power=2\n",
    "shots=70\n",
    "points_energy=points\n",
    "points_angular=transform_all_to_angular_4(points_energy)\n",
    "\n",
    "jets_0_q_a2=run_kt_inclusive(points_angular,points_energy,a,R,qsearch,ptcut,shots,a_power)\n",
    "final_jets_mom_0_q_a2=transform_all_to_momentum_4(jets_0_q_a2[0])\n",
    "\n",
    "list_0_q_a2=list(np.arange(len(points)))\n",
    "sol_0_q_a2=jets_0_q_a2[3]\n",
    "\n",
    "for i in range(len(final_jets_mom_0_q_a2)):\n",
    "    for j in range(len(sol_0_q_a2[i])):\n",
    "        list_0_q_a2[sol_0_q_a2[i][j]]=i\n",
    "centers_0_q_a2 = np.array(list_0_q_a2)    \n",
    "print(list_0_q_a2)"
   ]
  },
  {
   "cell_type": "code",
   "execution_count": 38,
   "metadata": {},
   "outputs": [
    {
     "name": "stdout",
     "output_type": "stream",
     "text": [
      "0.984375 0.9921875 0.984375\n"
     ]
    }
   ],
   "source": [
    "eff_antikt_a2,centers_minus2_q_a2_corrected=final_efficiency_converged(\n",
    "    centers_minus2_c_a2,centers_minus2_q_a2)\n",
    "eff_kt_a2,centers_2_q_a2_corrected=final_efficiency_converged(centers_2_c_a2,centers_2_q_a2)\n",
    "eff_cam_a2,centers_0_q_a2_corrected=final_efficiency_converged(centers_0_c_a2,centers_0_q_a2)\n",
    "print(eff_antikt_a2,eff_kt_a2,eff_cam_a2)"
   ]
  },
  {
   "cell_type": "code",
   "execution_count": 39,
   "metadata": {},
   "outputs": [
    {
     "name": "stdout",
     "output_type": "stream",
     "text": [
      "[3, 5, 3, 0, 3, 0, 0, 2, 3, 1, 3, 8, 3, 0, 3, 6, 3, 2, 0, 3, 3, 0, 9, 3, 3, 1, 8, 3, 3, 7, 0, 3, 4, 0, 0, 1, 0, 2, 0, 3, 0, 7, 0, 7, 6, 0, 9, 0, 9, 0, 6, 9, 0, 1, 4, 0, 6, 0, 0, 3, 2, 0, 0, 3, 2, 2, 2, 2, 2, 2, 2, 2, 2, 2, 2, 2, 2, 2, 2, 2, 2, 2, 2, 2, 2, 2, 2, 2, 2, 2, 2, 2, 2, 2, 2, 2, 1, 1, 1, 1, 1, 1, 1, 1, 1, 1, 1, 1, 1, 1, 1, 1, 1, 1, 1, 1, 1, 1, 1, 1, 1, 1, 1, 1, 1, 1, 1, 1]\n"
     ]
    }
   ],
   "source": [
    "#CLASSIC ANTI KT A_POWER=3\n",
    "a=-2 #antikt\n",
    "R=1\n",
    "ptcut=10 #GeV\n",
    "qsearch=False\n",
    "a_power=3\n",
    "shots=25\n",
    "points_energy=points\n",
    "points_angular=transform_all_to_angular_4(points_energy)\n",
    "\n",
    "jets_minus2_c_a3=run_kt_inclusive(points_angular,points_energy,a,R,qsearch,ptcut,shots,a_power)\n",
    "final_jets_mom_minus2_c_a3=transform_all_to_momentum_4(jets_minus2_c_a3[0])\n",
    "\n",
    "list_minus2_c_a3=list(np.arange(len(points)))\n",
    "sol_minus2_c_a3=jets_minus2_c_a3[3]\n",
    "#print(sol[1].index(13))\n",
    "for i in range(len(final_jets_mom_minus2_c_a3)):\n",
    "    for j in range(len(sol_minus2_c_a3[i])):\n",
    "        list_minus2_c_a3[sol_minus2_c_a3[i][j]]=i\n",
    "centers_minus2_c_a3 = np.array(list_minus2_c_a3)    \n",
    "print(list_minus2_c_a3)"
   ]
  },
  {
   "cell_type": "code",
   "execution_count": 40,
   "metadata": {},
   "outputs": [
    {
     "name": "stdout",
     "output_type": "stream",
     "text": [
      "[3, 1, 3, 6, 3, 6, 6, 3, 3, 5, 3, 3, 3, 6, 3, 6, 3, 4, 6, 3, 3, 6, 1, 3, 3, 5, 3, 3, 3, 3, 6, 3, 2, 6, 6, 5, 6, 4, 6, 3, 6, 0, 6, 0, 6, 6, 3, 6, 5, 6, 6, 6, 6, 5, 6, 6, 6, 6, 6, 3, 4, 6, 6, 3, 4, 4, 4, 4, 4, 4, 4, 4, 4, 4, 4, 4, 4, 4, 4, 4, 4, 4, 4, 4, 4, 4, 4, 4, 4, 4, 4, 4, 4, 4, 4, 4, 5, 5, 5, 5, 5, 5, 5, 5, 5, 5, 5, 5, 5, 5, 5, 5, 5, 5, 5, 5, 5, 5, 5, 5, 5, 5, 5, 5, 5, 5, 5, 5]\n"
     ]
    }
   ],
   "source": [
    "#CLASSIC KT A_POWER=3\n",
    "a=2 #kt\n",
    "R=1\n",
    "ptcut=10 #GeV\n",
    "qsearch=False\n",
    "a_power=3\n",
    "shots=20\n",
    "points_energy=points\n",
    "points_angular=transform_all_to_angular_4(points_energy)\n",
    "\n",
    "jets_2_c_a3=run_kt_inclusive(points_angular,points_energy,a,R,qsearch,ptcut,shots,a_power)\n",
    "final_jets_mom_2_c_a3=transform_all_to_momentum_4(jets_2_c_a3[0])\n",
    "\n",
    "list_2_c_a3=list(np.arange(len(points)))\n",
    "sol_2_c_a3=jets_2_c_a3[3]\n",
    "\n",
    "for i in range(len(final_jets_mom_2_c_a3)):\n",
    "    for j in range(len(sol_2_c_a3[i])):\n",
    "        list_2_c_a3[sol_2_c_a3[i][j]]=i\n",
    "centers_2_c_a3 = np.array(list_2_c_a3)    \n",
    "print(list_2_c_a3)"
   ]
  },
  {
   "cell_type": "code",
   "execution_count": 41,
   "metadata": {},
   "outputs": [
    {
     "name": "stdout",
     "output_type": "stream",
     "text": [
      "[8, 7, 8, 6, 8, 6, 6, 8, 8, 5, 8, 8, 8, 6, 8, 4, 8, 3, 6, 8, 8, 6, 9, 8, 8, 3, 8, 8, 8, 8, 6, 8, 2, 6, 6, 1, 6, 3, 6, 8, 6, 0, 6, 0, 1, 6, 8, 6, 9, 4, 4, 6, 6, 1, 4, 6, 4, 6, 6, 8, 3, 6, 1, 8, 3, 3, 3, 3, 3, 3, 3, 3, 3, 3, 3, 3, 3, 3, 3, 3, 3, 3, 3, 3, 3, 3, 3, 3, 3, 3, 3, 3, 3, 3, 3, 3, 5, 5, 5, 5, 5, 5, 5, 5, 5, 5, 5, 5, 5, 5, 5, 5, 5, 5, 5, 5, 5, 5, 5, 5, 5, 5, 5, 5, 5, 5, 5, 5]\n"
     ]
    }
   ],
   "source": [
    "#CLASSIC CAM/AACHEN A_POWER=3\n",
    "a=0 #Cam\n",
    "R=1\n",
    "ptcut=10 #GeV\n",
    "qsearch=False\n",
    "a_power=3\n",
    "shots=40\n",
    "points_energy=points\n",
    "points_angular=transform_all_to_angular_4(points_energy)\n",
    "\n",
    "jets_0_c_a3=run_kt_inclusive(points_angular,points_energy,a,R,qsearch,ptcut,shots,a_power)\n",
    "final_jets_mom_0_c_a3=transform_all_to_momentum_4(jets_0_c_a3[0])\n",
    "\n",
    "list_0_c_a3=list(np.arange(len(points)))\n",
    "sol_0_c_a3=jets_0_c_a3[3]\n",
    "\n",
    "for i in range(len(final_jets_mom_0_c_a3)):\n",
    "    for j in range(len(sol_0_c_a3[i])):\n",
    "        list_0_c_a3[sol_0_c_a3[i][j]]=i\n",
    "centers_0_c_a3 = np.array(list_0_c_a3)    \n",
    "print(list_0_c_a3)"
   ]
  },
  {
   "cell_type": "code",
   "execution_count": 26,
   "metadata": {},
   "outputs": [
    {
     "name": "stdout",
     "output_type": "stream",
     "text": [
      "[3, 5, 3, 0, 3, 0, 0, 2, 3, 1, 3, 8, 3, 0, 3, 6, 3, 2, 0, 3, 3, 0, 9, 3, 3, 1, 8, 3, 3, 7, 0, 3, 4, 0, 0, 1, 0, 2, 0, 3, 0, 7, 0, 7, 6, 0, 9, 0, 9, 0, 6, 9, 0, 1, 6, 0, 6, 0, 0, 3, 2, 0, 0, 3, 2, 2, 2, 2, 2, 2, 2, 2, 2, 2, 2, 2, 2, 2, 2, 2, 2, 2, 2, 2, 2, 2, 2, 2, 2, 2, 2, 2, 2, 2, 2, 2, 1, 1, 1, 1, 1, 1, 1, 1, 1, 1, 1, 1, 1, 1, 1, 1, 1, 1, 1, 1, 1, 1, 1, 1, 1, 1, 1, 1, 1, 1, 1, 1]\n"
     ]
    }
   ],
   "source": [
    "#QUANTUM ANTI KT A_POWER=3\n",
    "a=-2 #antikt\n",
    "R=1\n",
    "ptcut=10 #GeV\n",
    "qsearch=True\n",
    "a_power=3\n",
    "shots=25\n",
    "points_energy=points\n",
    "points_angular=transform_all_to_angular_4(points_energy)\n",
    "\n",
    "jets_minus2_q_a3=run_kt_inclusive(points_angular,points_energy,a,R,qsearch,ptcut,shots,a_power)\n",
    "final_jets_mom_minus2_q_a3=transform_all_to_momentum_4(jets_minus2_q_a3[0])\n",
    "\n",
    "list_minus2_q_a3=list(np.arange(len(points)))\n",
    "sol_minus2_q_a3=jets_minus2_q_a3[3]\n",
    "#print(sol[1].index(13))\n",
    "for i in range(len(final_jets_mom_minus2_q_a3)):\n",
    "    for j in range(len(sol_minus2_q_a3[i])):\n",
    "        list_minus2_q_a3[sol_minus2_q_a3[i][j]]=i\n",
    "centers_minus2_q_a3 = np.array(list_minus2_q_a3)    \n",
    "print(list_minus2_q_a3)"
   ]
  },
  {
   "cell_type": "code",
   "execution_count": 27,
   "metadata": {},
   "outputs": [
    {
     "name": "stdout",
     "output_type": "stream",
     "text": [
      "[3, 1, 3, 6, 3, 6, 6, 3, 3, 5, 3, 3, 3, 6, 3, 6, 3, 4, 6, 3, 3, 6, 1, 3, 3, 5, 3, 3, 3, 3, 6, 3, 2, 6, 6, 6, 6, 4, 6, 3, 6, 0, 6, 0, 6, 6, 3, 6, 6, 6, 6, 6, 6, 6, 6, 6, 6, 6, 6, 3, 4, 6, 6, 3, 4, 4, 4, 4, 4, 4, 4, 4, 4, 4, 4, 4, 4, 4, 4, 4, 4, 4, 4, 4, 4, 4, 4, 4, 4, 4, 4, 4, 4, 4, 4, 4, 5, 5, 5, 5, 5, 5, 5, 5, 5, 5, 5, 5, 5, 5, 5, 5, 5, 5, 5, 5, 5, 5, 5, 5, 5, 5, 5, 5, 5, 5, 5, 5]\n"
     ]
    }
   ],
   "source": [
    "#QUANTUM KT A_POWER=3\n",
    "a=2 #kt\n",
    "R=1\n",
    "ptcut=10 #GeV\n",
    "qsearch=True\n",
    "a_power=3\n",
    "shots=20\n",
    "points_energy=points\n",
    "points_angular=transform_all_to_angular_4(points_energy)\n",
    "\n",
    "jets_2_q_a3=run_kt_inclusive(points_angular,points_energy,a,R,qsearch,ptcut,shots,a_power)\n",
    "final_jets_mom_2_q_a3=transform_all_to_momentum_4(jets_2_q_a3[0])\n",
    "\n",
    "list_2_q_a3=list(np.arange(len(points)))\n",
    "sol_2_q_a3=jets_2_q_a3[3]\n",
    "\n",
    "for i in range(len(final_jets_mom_2_q_a3)):\n",
    "    for j in range(len(sol_2_q_a3[i])):\n",
    "        list_2_q_a3[sol_2_q_a3[i][j]]=i\n",
    "centers_2_q_a3 = np.array(list_2_q_a3)    \n",
    "print(list_2_q_a3)"
   ]
  },
  {
   "cell_type": "code",
   "execution_count": 55,
   "metadata": {},
   "outputs": [
    {
     "name": "stdout",
     "output_type": "stream",
     "text": [
      "[1, 7, 1, 0, 1, 0, 0, 1, 1, 4, 1, 1, 1, 0, 1, 8, 1, 6, 0, 1, 1, 0, 9, 1, 1, 6, 1, 1, 1, 1, 0, 1, 3, 0, 0, 2, 0, 6, 0, 1, 0, 5, 0, 5, 2, 0, 1, 0, 9, 8, 8, 0, 0, 2, 8, 0, 8, 0, 0, 1, 6, 0, 2, 1, 6, 6, 6, 6, 6, 6, 6, 6, 6, 6, 6, 6, 6, 6, 6, 6, 6, 6, 6, 6, 6, 6, 6, 6, 6, 6, 6, 6, 6, 6, 6, 6, 4, 4, 4, 4, 4, 4, 4, 4, 4, 4, 4, 4, 4, 4, 4, 4, 4, 4, 4, 4, 4, 4, 4, 4, 4, 4, 4, 4, 4, 4, 4, 4]\n"
     ]
    }
   ],
   "source": [
    "#QUANTUM CAM/AACHEN A_POWER=3\n",
    "a=0 #Cam\n",
    "R=1\n",
    "ptcut=10 #GeV\n",
    "qsearch=True\n",
    "a_power=3\n",
    "shots=40\n",
    "points_energy=points\n",
    "points_angular=transform_all_to_angular_4(points_energy)\n",
    "\n",
    "jets_0_q_a3=run_kt_inclusive(points_angular,points_energy,a,R,qsearch,ptcut,shots,a_power)\n",
    "final_jets_mom_0_q_a3=transform_all_to_momentum_4(jets_0_q_a3[0])\n",
    "\n",
    "list_0_q_a3=list(np.arange(len(points)))\n",
    "sol_0_q_a3=jets_0_q_a3[3]\n",
    "\n",
    "for i in range(len(final_jets_mom_0_q_a3)):\n",
    "    for j in range(len(sol_0_q_a3[i])):\n",
    "        list_0_q_a3[sol_0_q_a3[i][j]]=i\n",
    "centers_0_q_a3 = np.array(list_0_q_a3)    \n",
    "print(list_0_q_a3)"
   ]
  },
  {
   "cell_type": "code",
   "execution_count": 56,
   "metadata": {},
   "outputs": [
    {
     "name": "stdout",
     "output_type": "stream",
     "text": [
      "0.9921875 0.9765625 1.0\n"
     ]
    }
   ],
   "source": [
    "eff_antikt_a3,centers_minus2_q_a3_corrected=final_efficiency_converged(\n",
    "    centers_minus2_c_a3,centers_minus2_q_a3)\n",
    "eff_kt_a3,centers_2_q_a3_corrected=final_efficiency_converged(centers_2_c_a3,centers_2_q_a3)\n",
    "eff_cam_a3,centers_0_q_a3_corrected=final_efficiency_converged(centers_0_c_a3,centers_0_q_a3)\n",
    "print(eff_antikt_a3,eff_kt_a3,eff_cam_a3)"
   ]
  },
  {
   "cell_type": "code",
   "execution_count": 43,
   "metadata": {},
   "outputs": [
    {
     "name": "stdout",
     "output_type": "stream",
     "text": [
      "[3, 5, 3, 0, 3, 0, 0, 2, 3, 1, 3, 8, 3, 0, 3, 6, 3, 2, 0, 3, 3, 0, 9, 3, 3, 1, 8, 3, 3, 7, 0, 3, 4, 0, 0, 1, 0, 2, 0, 3, 0, 7, 0, 7, 6, 0, 9, 0, 9, 0, 6, 9, 0, 1, 4, 0, 6, 0, 0, 3, 2, 0, 0, 3, 2, 2, 2, 2, 2, 2, 2, 2, 2, 2, 2, 2, 2, 2, 2, 2, 2, 2, 2, 2, 2, 2, 2, 2, 2, 2, 2, 2, 2, 2, 2, 2, 1, 1, 1, 1, 1, 1, 1, 1, 1, 1, 1, 1, 1, 1, 1, 1, 1, 1, 1, 1, 1, 1, 1, 1, 1, 1, 1, 1, 1, 1, 1, 1]\n"
     ]
    }
   ],
   "source": [
    "#CLASSIC ANTI KT A_POWER=4\n",
    "a=-2 #antikt\n",
    "R=1\n",
    "ptcut=10 #GeV\n",
    "qsearch=False\n",
    "a_power=4\n",
    "shots=15\n",
    "points_energy=points\n",
    "points_angular=transform_all_to_angular_4(points_energy)\n",
    "\n",
    "jets_minus2_c_a4=run_kt_inclusive(points_angular,points_energy,a,R,qsearch,ptcut,shots,a_power)\n",
    "final_jets_mom_minus2_c_a4=transform_all_to_momentum_4(jets_minus2_c_a4[0])\n",
    "\n",
    "list_minus2_c_a4=list(np.arange(len(points)))\n",
    "sol_minus2_c_a4=jets_minus2_c_a4[3]\n",
    "#print(sol[1].index(13))\n",
    "for i in range(len(final_jets_mom_minus2_c_a4)):\n",
    "    for j in range(len(sol_minus2_c_a4[i])):\n",
    "        list_minus2_c_a4[sol_minus2_c_a4[i][j]]=i\n",
    "centers_minus2_c_a4 = np.array(list_minus2_c_a4)    \n",
    "print(list_minus2_c_a4)"
   ]
  },
  {
   "cell_type": "code",
   "execution_count": 44,
   "metadata": {},
   "outputs": [
    {
     "name": "stdout",
     "output_type": "stream",
     "text": [
      "[3, 1, 3, 6, 3, 6, 6, 3, 3, 5, 3, 3, 3, 6, 3, 6, 3, 4, 6, 3, 3, 6, 1, 3, 3, 5, 3, 3, 3, 3, 6, 3, 2, 6, 6, 5, 6, 4, 6, 3, 6, 0, 6, 0, 6, 6, 3, 6, 5, 6, 6, 6, 6, 5, 6, 6, 6, 6, 6, 3, 4, 6, 6, 3, 4, 4, 4, 4, 4, 4, 4, 4, 4, 4, 4, 4, 4, 4, 4, 4, 4, 4, 4, 4, 4, 4, 4, 4, 4, 4, 4, 4, 4, 4, 4, 4, 5, 5, 5, 5, 5, 5, 5, 5, 5, 5, 5, 5, 5, 5, 5, 5, 5, 5, 5, 5, 5, 5, 5, 5, 5, 5, 5, 5, 5, 5, 5, 5]\n"
     ]
    }
   ],
   "source": [
    "# CLASSIC KT A_POWER=4\n",
    "a=2 #kt\n",
    "R=1\n",
    "ptcut=10 #GeV\n",
    "qsearch=False\n",
    "a_power=4\n",
    "shots=15\n",
    "points_energy=points\n",
    "points_angular=transform_all_to_angular_4(points_energy)\n",
    "\n",
    "jets_2_c_a4=run_kt_inclusive(points_angular,points_energy,a,R,qsearch,ptcut,shots,a_power)\n",
    "final_jets_mom_2_c_a4=transform_all_to_momentum_4(jets_2_c_a4[0])\n",
    "\n",
    "list_2_c_a4=list(np.arange(len(points)))\n",
    "sol_2_c_a4=jets_2_c_a4[3]\n",
    "\n",
    "for i in range(len(final_jets_mom_2_c_a4)):\n",
    "    for j in range(len(sol_2_c_a4[i])):\n",
    "        list_2_c_a4[sol_2_c_a4[i][j]]=i\n",
    "centers_2_c_a4 = np.array(list_2_c_a4)    \n",
    "print(list_2_c_a4)"
   ]
  },
  {
   "cell_type": "code",
   "execution_count": 45,
   "metadata": {},
   "outputs": [
    {
     "name": "stdout",
     "output_type": "stream",
     "text": [
      "[8, 7, 8, 6, 8, 6, 6, 8, 8, 5, 8, 8, 8, 6, 8, 4, 8, 3, 6, 8, 8, 6, 9, 8, 8, 3, 8, 8, 8, 8, 6, 8, 2, 6, 6, 1, 6, 3, 6, 8, 6, 0, 6, 0, 1, 6, 8, 6, 9, 4, 4, 6, 6, 1, 4, 6, 4, 6, 6, 8, 3, 6, 1, 8, 3, 3, 3, 3, 3, 3, 3, 3, 3, 3, 3, 3, 3, 3, 3, 3, 3, 3, 3, 3, 3, 3, 3, 3, 3, 3, 3, 3, 3, 3, 3, 3, 5, 5, 5, 5, 5, 5, 5, 5, 5, 5, 5, 5, 5, 5, 5, 5, 5, 5, 5, 5, 5, 5, 5, 5, 5, 5, 5, 5, 5, 5, 5, 5]\n"
     ]
    }
   ],
   "source": [
    "#CLASSIC CAM/AACHEN A_POWER=4\n",
    "a=0 #Cam\n",
    "R=1\n",
    "ptcut=10 #GeV\n",
    "qsearch=False\n",
    "a_power=4\n",
    "shots=20\n",
    "points_energy=points\n",
    "points_angular=transform_all_to_angular_4(points_energy)\n",
    "\n",
    "jets_0_c_a4=run_kt_inclusive(points_angular,points_energy,a,R,qsearch,ptcut,shots,a_power)\n",
    "final_jets_mom_0_c_a4=transform_all_to_momentum_4(jets_0_c_a4[0])\n",
    "\n",
    "list_0_c_a4=list(np.arange(len(points)))\n",
    "sol_0_c_a4=jets_0_c_a4[3]\n",
    "\n",
    "for i in range(len(final_jets_mom_0_c_a4)):\n",
    "    for j in range(len(sol_0_c_a4[i])):\n",
    "        list_0_c_a4[sol_0_c_a4[i][j]]=i\n",
    "centers_0_c_a4 = np.array(list_0_c_a4)    \n",
    "print(list_0_c_a4)"
   ]
  },
  {
   "cell_type": "code",
   "execution_count": 29,
   "metadata": {},
   "outputs": [
    {
     "name": "stdout",
     "output_type": "stream",
     "text": [
      "[3, 5, 3, 0, 3, 0, 0, 2, 3, 1, 3, 8, 3, 0, 3, 6, 3, 2, 0, 3, 3, 0, 9, 3, 3, 1, 8, 3, 3, 7, 0, 3, 4, 0, 0, 1, 0, 2, 0, 3, 0, 7, 0, 7, 6, 0, 9, 0, 9, 0, 6, 9, 0, 1, 4, 0, 6, 0, 0, 3, 2, 0, 0, 3, 2, 2, 2, 2, 2, 2, 2, 2, 2, 2, 2, 2, 2, 2, 2, 2, 2, 2, 2, 2, 2, 2, 2, 2, 2, 2, 2, 2, 2, 2, 2, 2, 1, 1, 1, 1, 1, 1, 1, 1, 1, 1, 1, 1, 1, 1, 1, 1, 1, 1, 1, 1, 1, 1, 1, 1, 1, 1, 1, 1, 1, 1, 1, 1]\n"
     ]
    }
   ],
   "source": [
    "#QUANTUM ANTI KT A_POWER=4\n",
    "a=-2 #antikt\n",
    "R=1\n",
    "ptcut=10 #GeV\n",
    "qsearch=True\n",
    "a_power=4\n",
    "shots=15\n",
    "points_energy=points\n",
    "points_angular=transform_all_to_angular_4(points_energy)\n",
    "\n",
    "jets_minus2_q_a4=run_kt_inclusive(points_angular,points_energy,a,R,qsearch,ptcut,shots,a_power)\n",
    "final_jets_mom_minus2_q_a4=transform_all_to_momentum_4(jets_minus2_q_a4[0])\n",
    "\n",
    "list_minus2_q_a4=list(np.arange(len(points)))\n",
    "sol_minus2_q_a4=jets_minus2_q_a4[3]\n",
    "#print(sol[1].index(13))\n",
    "for i in range(len(final_jets_mom_minus2_q_a4)):\n",
    "    for j in range(len(sol_minus2_q_a4[i])):\n",
    "        list_minus2_q_a4[sol_minus2_q_a4[i][j]]=i\n",
    "centers_minus2_q_a4 = np.array(list_minus2_q_a4)    \n",
    "print(list_minus2_q_a4)"
   ]
  },
  {
   "cell_type": "code",
   "execution_count": 59,
   "metadata": {},
   "outputs": [
    {
     "name": "stdout",
     "output_type": "stream",
     "text": [
      "[4, 1, 4, 6, 4, 6, 6, 4, 4, 5, 4, 4, 4, 6, 4, 6, 4, 3, 6, 4, 4, 6, 1, 4, 4, 5, 4, 4, 4, 4, 6, 4, 2, 6, 6, 5, 6, 3, 6, 4, 6, 0, 6, 0, 6, 6, 4, 6, 5, 6, 6, 6, 6, 5, 6, 6, 6, 6, 6, 4, 3, 6, 6, 4, 3, 3, 3, 3, 3, 3, 3, 3, 3, 3, 3, 3, 3, 3, 3, 3, 3, 3, 3, 3, 3, 3, 3, 3, 3, 3, 3, 3, 3, 3, 3, 3, 5, 5, 5, 5, 5, 5, 5, 5, 5, 5, 5, 5, 5, 5, 5, 5, 5, 5, 5, 5, 5, 5, 5, 5, 5, 5, 5, 5, 5, 5, 5, 5]\n"
     ]
    }
   ],
   "source": [
    "#QUANTUM KT A_POWER=4\n",
    "a=2 #kt\n",
    "R=1\n",
    "ptcut=10 #GeV\n",
    "qsearch=True\n",
    "a_power=4\n",
    "shots=15\n",
    "points_energy=points\n",
    "points_angular=transform_all_to_angular_4(points_energy)\n",
    "\n",
    "jets_2_q_a4=run_kt_inclusive(points_angular,points_energy,a,R,qsearch,ptcut,shots,a_power)\n",
    "final_jets_mom_2_q_a4=transform_all_to_momentum_4(jets_2_q_a4[0])\n",
    "\n",
    "list_2_q_a4=list(np.arange(len(points)))\n",
    "sol_2_q_a4=jets_2_q_a4[3]\n",
    "\n",
    "for i in range(len(final_jets_mom_2_q_a4)):\n",
    "    for j in range(len(sol_2_q_a4[i])):\n",
    "        list_2_q_a4[sol_2_q_a4[i][j]]=i\n",
    "centers_2_q_a4 = np.array(list_2_q_a4)    \n",
    "print(list_2_q_a4)"
   ]
  },
  {
   "cell_type": "code",
   "execution_count": 31,
   "metadata": {},
   "outputs": [
    {
     "name": "stdout",
     "output_type": "stream",
     "text": [
      "[6, 0, 6, 8, 6, 8, 8, 6, 6, 4, 6, 6, 6, 8, 6, 2, 6, 3, 8, 6, 6, 8, 9, 6, 6, 3, 6, 6, 6, 6, 8, 6, 5, 8, 8, 7, 8, 3, 8, 6, 8, 1, 8, 1, 7, 8, 6, 8, 9, 2, 2, 8, 8, 7, 2, 8, 2, 8, 8, 6, 3, 8, 7, 6, 3, 3, 3, 3, 3, 3, 3, 3, 3, 3, 3, 3, 3, 3, 3, 3, 3, 3, 3, 3, 3, 3, 3, 3, 3, 3, 3, 3, 3, 3, 3, 3, 4, 4, 4, 4, 4, 4, 4, 4, 4, 4, 4, 4, 4, 4, 4, 4, 4, 4, 4, 4, 4, 4, 4, 4, 4, 4, 4, 4, 4, 4, 4, 4]\n"
     ]
    }
   ],
   "source": [
    "#QUANTUM CAM/AACHEN A_POWER=4\n",
    "a=0 #Cam\n",
    "R=1\n",
    "ptcut=10 #GeV\n",
    "qsearch=True\n",
    "a_power=4\n",
    "shots=20\n",
    "points_energy=points\n",
    "points_angular=transform_all_to_angular_4(points_energy)\n",
    "\n",
    "jets_0_q_a4=run_kt_inclusive(points_angular,points_energy,a,R,qsearch,ptcut,shots,a_power)\n",
    "final_jets_mom_0_q_a4=transform_all_to_momentum_4(jets_0_q_a4[0])\n",
    "\n",
    "list_0_q_a4=list(np.arange(len(points)))\n",
    "sol_0_q_a4=jets_0_q_a4[3]\n",
    "\n",
    "for i in range(len(final_jets_mom_0_q_a4)):\n",
    "    for j in range(len(sol_0_q_a4[i])):\n",
    "        list_0_q_a4[sol_0_q_a4[i][j]]=i\n",
    "centers_0_q_a4 = np.array(list_0_q_a4)    \n",
    "print(list_0_q_a4)"
   ]
  },
  {
   "cell_type": "code",
   "execution_count": 60,
   "metadata": {},
   "outputs": [
    {
     "name": "stdout",
     "output_type": "stream",
     "text": [
      "1.0 1.0 1.0\n"
     ]
    }
   ],
   "source": [
    "eff_antikt_a4,centers_minus2_q_a4_corrected=final_efficiency_converged(\n",
    "    centers_minus2_c_a4,centers_minus2_q_a4)\n",
    "eff_kt_a4,centers_2_q_a4_corrected=final_efficiency_converged(centers_2_c_a4,centers_2_q_a4)\n",
    "eff_cam_a4,centers_0_q_a4_corrected=final_efficiency_converged(centers_0_c_a4,centers_0_q_a4)\n",
    "print(eff_antikt_a4,eff_kt_a4,eff_cam_a4)"
   ]
  },
  {
   "cell_type": "code",
   "execution_count": 47,
   "metadata": {},
   "outputs": [
    {
     "name": "stdout",
     "output_type": "stream",
     "text": [
      "[3, 5, 3, 0, 3, 0, 0, 2, 3, 1, 3, 8, 3, 0, 3, 6, 3, 2, 0, 3, 3, 0, 9, 3, 3, 1, 8, 3, 3, 7, 0, 3, 4, 0, 0, 1, 0, 2, 0, 3, 0, 7, 0, 7, 6, 0, 9, 0, 9, 0, 6, 9, 0, 1, 4, 0, 6, 0, 0, 3, 2, 0, 0, 3, 2, 2, 2, 2, 2, 2, 2, 2, 2, 2, 2, 2, 2, 2, 2, 2, 2, 2, 2, 2, 2, 2, 2, 2, 2, 2, 2, 2, 2, 2, 2, 2, 1, 1, 1, 1, 1, 1, 1, 1, 1, 1, 1, 1, 1, 1, 1, 1, 1, 1, 1, 1, 1, 1, 1, 1, 1, 1, 1, 1, 1, 1, 1, 1]\n"
     ]
    }
   ],
   "source": [
    "#CLASSIC ANTI KT A_POWER=5\n",
    "a=-2 #antikt\n",
    "R=1\n",
    "ptcut=10 #GeV\n",
    "qsearch=False\n",
    "a_power=5\n",
    "shots=5\n",
    "points_energy=points\n",
    "points_angular=transform_all_to_angular_4(points_energy)\n",
    "\n",
    "jets_minus2_c_a5=run_kt_inclusive(points_angular,points_energy,a,R,qsearch,ptcut,shots,a_power)\n",
    "final_jets_mom_minus2_c_a5=transform_all_to_momentum_4(jets_minus2_c_a5[0])\n",
    "\n",
    "list_minus2_c_a5=list(np.arange(len(points)))\n",
    "sol_minus2_c_a5=jets_minus2_c_a5[3]\n",
    "\n",
    "for i in range(len(final_jets_mom_minus2_c_a5)):\n",
    "    for j in range(len(sol_minus2_c_a5[i])):\n",
    "        list_minus2_c_a5[sol_minus2_c_a5[i][j]]=i\n",
    "centers_minus2_c_a5 = np.array(list_minus2_c_a5)    \n",
    "print(list_minus2_c_a5)"
   ]
  },
  {
   "cell_type": "code",
   "execution_count": 48,
   "metadata": {},
   "outputs": [
    {
     "name": "stdout",
     "output_type": "stream",
     "text": [
      "[3, 1, 3, 6, 3, 6, 6, 3, 3, 5, 3, 3, 3, 6, 3, 6, 3, 4, 6, 3, 3, 6, 1, 3, 3, 5, 3, 3, 3, 3, 6, 3, 2, 6, 6, 5, 6, 4, 6, 3, 6, 0, 6, 0, 6, 6, 3, 6, 5, 6, 6, 6, 6, 5, 6, 6, 6, 6, 6, 3, 4, 6, 6, 3, 4, 4, 4, 4, 4, 4, 4, 4, 4, 4, 4, 4, 4, 4, 4, 4, 4, 4, 4, 4, 4, 4, 4, 4, 4, 4, 4, 4, 4, 4, 4, 4, 5, 5, 5, 5, 5, 5, 5, 5, 5, 5, 5, 5, 5, 5, 5, 5, 5, 5, 5, 5, 5, 5, 5, 5, 5, 5, 5, 5, 5, 5, 5, 5]\n"
     ]
    }
   ],
   "source": [
    "#CLASSIC KT A_POWER=5\n",
    "a=2 #kt\n",
    "R=1\n",
    "ptcut=10 #GeV\n",
    "qsearch=False\n",
    "a_power=5\n",
    "shots=8\n",
    "points_energy=points\n",
    "points_angular=transform_all_to_angular_4(points_energy)\n",
    "\n",
    "jets_2_c_a5=run_kt_inclusive(points_angular,points_energy,a,R,qsearch,ptcut,shots,a_power)\n",
    "final_jets_mom_2_c_a5=transform_all_to_momentum_4(jets_2_c_a5[0])\n",
    "\n",
    "list_2_c_a5=list(np.arange(len(points)))\n",
    "sol_2_c_a5=jets_2_c_a5[3]\n",
    "\n",
    "for i in range(len(final_jets_mom_2_c_a5)):\n",
    "    for j in range(len(sol_2_c_a5[i])):\n",
    "        list_2_c_a5[sol_2_c_a5[i][j]]=i\n",
    "centers_2_c_a5 = np.array(list_2_c_a5)    \n",
    "print(list_2_c_a5)"
   ]
  },
  {
   "cell_type": "code",
   "execution_count": 49,
   "metadata": {},
   "outputs": [
    {
     "name": "stdout",
     "output_type": "stream",
     "text": [
      "[8, 7, 8, 6, 8, 6, 6, 8, 8, 5, 8, 8, 8, 6, 8, 4, 8, 3, 6, 8, 8, 6, 9, 8, 8, 3, 8, 8, 8, 8, 6, 8, 2, 6, 6, 1, 6, 3, 6, 8, 6, 0, 6, 0, 1, 6, 8, 6, 9, 4, 4, 6, 6, 1, 4, 6, 4, 6, 6, 8, 3, 6, 1, 8, 3, 3, 3, 3, 3, 3, 3, 3, 3, 3, 3, 3, 3, 3, 3, 3, 3, 3, 3, 3, 3, 3, 3, 3, 3, 3, 3, 3, 3, 3, 3, 3, 5, 5, 5, 5, 5, 5, 5, 5, 5, 5, 5, 5, 5, 5, 5, 5, 5, 5, 5, 5, 5, 5, 5, 5, 5, 5, 5, 5, 5, 5, 5, 5]\n"
     ]
    }
   ],
   "source": [
    "#CLASSIC CAM/AACHEN A_POWER=5\n",
    "a=0 #Cam\n",
    "R=1\n",
    "ptcut=10 #GeV\n",
    "qsearch=False\n",
    "a_power=5\n",
    "shots=10\n",
    "points_energy=points\n",
    "points_angular=transform_all_to_angular_4(points_energy)\n",
    "\n",
    "jets_0_c_a5=run_kt_inclusive(points_angular,points_energy,a,R,qsearch,ptcut,shots,a_power)\n",
    "final_jets_mom_0_c_a5=transform_all_to_momentum_4(jets_0_c_a5[0])\n",
    "\n",
    "list_0_c_a5=list(np.arange(len(points)))\n",
    "sol_0_c_a5=jets_0_c_a5[3]\n",
    "\n",
    "for i in range(len(final_jets_mom_0_c_a5)):\n",
    "    for j in range(len(sol_0_c_a5[i])):\n",
    "        list_0_c_a5[sol_0_c_a5[i][j]]=i\n",
    "centers_0_c_a5 = np.array(list_0_c_a5)    \n",
    "print(list_0_c_a5)"
   ]
  },
  {
   "cell_type": "code",
   "execution_count": 51,
   "metadata": {},
   "outputs": [
    {
     "name": "stdout",
     "output_type": "stream",
     "text": [
      "[3, 5, 3, 0, 3, 0, 0, 2, 3, 1, 3, 8, 3, 0, 3, 6, 3, 2, 0, 3, 3, 0, 9, 3, 3, 1, 8, 3, 3, 7, 0, 3, 4, 0, 0, 1, 0, 2, 0, 3, 0, 7, 0, 7, 6, 0, 9, 0, 9, 6, 6, 9, 0, 1, 4, 0, 6, 0, 0, 3, 2, 0, 0, 3, 2, 2, 2, 2, 2, 2, 2, 2, 2, 2, 2, 2, 2, 2, 2, 2, 2, 2, 2, 2, 2, 2, 2, 2, 2, 2, 2, 2, 2, 2, 2, 2, 1, 1, 1, 1, 1, 1, 1, 1, 1, 1, 1, 1, 1, 1, 1, 1, 1, 1, 1, 1, 1, 1, 1, 1, 1, 1, 1, 1, 1, 1, 1, 1]\n"
     ]
    }
   ],
   "source": [
    "#QUANTUM ANTI KT A_POWER=5\n",
    "a=-2 #antikt\n",
    "R=1\n",
    "ptcut=10 #GeV\n",
    "qsearch=True\n",
    "a_power=5\n",
    "shots=5\n",
    "points_energy=points\n",
    "points_angular=transform_all_to_angular_4(points_energy)\n",
    "\n",
    "jets_minus2_q_a5=run_kt_inclusive(points_angular,points_energy,a,R,qsearch,ptcut,shots,a_power)\n",
    "final_jets_mom_minus2_q_a5=transform_all_to_momentum_4(jets_minus2_q_a5[0])\n",
    "\n",
    "list_minus2_q_a5=list(np.arange(len(points)))\n",
    "sol_minus2_q_a5=jets_minus2_q_a5[3]\n",
    "#print(sol[1].index(13))\n",
    "for i in range(len(final_jets_mom_minus2_q_a5)):\n",
    "    for j in range(len(sol_minus2_q_a5[i])):\n",
    "        list_minus2_q_a5[sol_minus2_q_a5[i][j]]=i\n",
    "centers_minus2_q_a5 = np.array(list_minus2_q_a5)    \n",
    "print(list_minus2_q_a5)"
   ]
  },
  {
   "cell_type": "code",
   "execution_count": 33,
   "metadata": {},
   "outputs": [
    {
     "name": "stdout",
     "output_type": "stream",
     "text": [
      "[3, 1, 3, 6, 3, 6, 6, 3, 3, 5, 3, 3, 3, 6, 3, 6, 3, 4, 6, 3, 3, 6, 1, 3, 3, 5, 3, 3, 3, 3, 6, 3, 2, 6, 6, 6, 6, 4, 6, 3, 6, 0, 6, 0, 6, 6, 3, 6, 6, 6, 6, 6, 6, 6, 6, 6, 6, 6, 6, 3, 4, 6, 6, 3, 4, 4, 4, 4, 4, 4, 4, 4, 4, 4, 4, 4, 4, 4, 4, 4, 4, 4, 4, 4, 4, 4, 4, 4, 4, 4, 4, 4, 4, 4, 4, 4, 5, 5, 5, 5, 5, 5, 5, 5, 5, 5, 5, 5, 5, 5, 5, 5, 5, 5, 5, 5, 5, 5, 5, 5, 5, 5, 5, 5, 5, 5, 5, 5]\n"
     ]
    }
   ],
   "source": [
    "#QUANTUM KT A_POWER=5\n",
    "a=2 #kt\n",
    "R=1\n",
    "ptcut=10 #GeV\n",
    "qsearch=True\n",
    "a_power=5\n",
    "shots=8\n",
    "points_energy=points\n",
    "points_angular=transform_all_to_angular_4(points_energy)\n",
    "\n",
    "jets_2_q_a5=run_kt_inclusive(points_angular,points_energy,a,R,qsearch,ptcut,shots,a_power)\n",
    "final_jets_mom_2_q_a5=transform_all_to_momentum_4(jets_2_q_a5[0])\n",
    "\n",
    "list_2_q_a5=list(np.arange(len(points)))\n",
    "sol_2_q_a5=jets_2_q_a5[3]\n",
    "\n",
    "for i in range(len(final_jets_mom_2_q_a5)):\n",
    "    for j in range(len(sol_2_q_a5[i])):\n",
    "        list_2_q_a5[sol_2_q_a5[i][j]]=i\n",
    "centers_2_q_a5 = np.array(list_2_q_a5)    \n",
    "print(list_2_q_a5)"
   ]
  },
  {
   "cell_type": "code",
   "execution_count": 34,
   "metadata": {},
   "outputs": [
    {
     "name": "stdout",
     "output_type": "stream",
     "text": [
      "[6, 2, 6, 8, 6, 8, 8, 6, 6, 0, 6, 6, 6, 8, 6, 1, 6, 7, 8, 6, 6, 8, 9, 6, 6, 7, 6, 6, 6, 6, 8, 6, 3, 8, 8, 4, 8, 7, 8, 6, 8, 5, 8, 5, 4, 8, 6, 8, 9, 1, 1, 8, 8, 4, 1, 8, 1, 8, 8, 6, 7, 8, 4, 6, 7, 7, 7, 7, 7, 7, 7, 7, 7, 7, 7, 7, 7, 7, 7, 7, 7, 7, 7, 7, 7, 7, 7, 7, 7, 7, 7, 7, 7, 7, 7, 7, 0, 0, 0, 0, 0, 0, 0, 0, 0, 0, 0, 0, 0, 0, 0, 0, 0, 0, 0, 0, 0, 0, 0, 0, 0, 0, 0, 0, 0, 0, 0, 0]\n"
     ]
    }
   ],
   "source": [
    "#QUANTUM CAM/AACHEN A_POWER=5\n",
    "a=0 #Cam\n",
    "R=1\n",
    "ptcut=10 #GeV\n",
    "qsearch=True\n",
    "a_power=5\n",
    "shots=10\n",
    "points_energy=points\n",
    "points_angular=transform_all_to_angular_4(points_energy)\n",
    "\n",
    "jets_0_q_a5=run_kt_inclusive(points_angular,points_energy,a,R,qsearch,ptcut,shots,a_power)\n",
    "final_jets_mom_0_q_a5=transform_all_to_momentum_4(jets_0_q_a5[0])\n",
    "\n",
    "list_0_q_a5=list(np.arange(len(points)))\n",
    "sol_0_q_a5=jets_0_q_a5[3]\n",
    "\n",
    "for i in range(len(final_jets_mom_0_q_a5)):\n",
    "    for j in range(len(sol_0_q_a5[i])):\n",
    "        list_0_q_a5[sol_0_q_a5[i][j]]=i\n",
    "centers_0_q_a5 = np.array(list_0_q_a5)    \n",
    "print(list_0_q_a5)"
   ]
  },
  {
   "cell_type": "code",
   "execution_count": 52,
   "metadata": {},
   "outputs": [
    {
     "name": "stdout",
     "output_type": "stream",
     "text": [
      "0.9921875 0.9765625 1.0\n"
     ]
    }
   ],
   "source": [
    "eff_antikt_a5,centers_minus2_q_a5_corrected=final_efficiency_converged(\n",
    "    centers_minus2_c_a5,centers_minus2_q_a5)\n",
    "eff_kt_a5,centers_2_q_a5_corrected=final_efficiency_converged(centers_2_c_a5,centers_2_q_a5)\n",
    "eff_cam_a5,centers_0_q_a5_corrected=final_efficiency_converged(centers_0_c_a5,centers_0_q_a5)\n",
    "print(eff_antikt_a5,eff_kt_a5,eff_cam_a5)"
   ]
  },
  {
   "cell_type": "code",
   "execution_count": null,
   "metadata": {},
   "outputs": [],
   "source": []
  }
 ],
 "metadata": {
  "kernelspec": {
   "display_name": "Python 3 (ipykernel)",
   "language": "python",
   "name": "python3"
  },
  "language_info": {
   "codemirror_mode": {
    "name": "ipython",
    "version": 3
   },
   "file_extension": ".py",
   "mimetype": "text/x-python",
   "name": "python",
   "nbconvert_exporter": "python",
   "pygments_lexer": "ipython3",
   "version": "3.9.12"
  }
 },
 "nbformat": 4,
 "nbformat_minor": 4
}
